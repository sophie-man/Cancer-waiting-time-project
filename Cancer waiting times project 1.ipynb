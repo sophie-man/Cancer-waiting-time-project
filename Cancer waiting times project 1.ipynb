{
 "cells": [
  {
   "cell_type": "code",
   "execution_count": 1,
   "id": "ff377c12",
   "metadata": {},
   "outputs": [
    {
     "data": {
      "text/html": [
       "<div>\n",
       "<style scoped>\n",
       "    .dataframe tbody tr th:only-of-type {\n",
       "        vertical-align: middle;\n",
       "    }\n",
       "\n",
       "    .dataframe tbody tr th {\n",
       "        vertical-align: top;\n",
       "    }\n",
       "\n",
       "    .dataframe thead th {\n",
       "        text-align: right;\n",
       "    }\n",
       "</style>\n",
       "<table border=\"1\" class=\"dataframe\">\n",
       "  <thead>\n",
       "    <tr style=\"text-align: right;\">\n",
       "      <th></th>\n",
       "      <th>PERIOD</th>\n",
       "      <th>YEAR</th>\n",
       "      <th>MONTH</th>\n",
       "      <th>STANDARD</th>\n",
       "      <th>ORG CODE</th>\n",
       "      <th>CARE SETTING</th>\n",
       "      <th>CANCER TYPE</th>\n",
       "      <th>TOTAL TREATED</th>\n",
       "      <th>WITHIN STANDARD</th>\n",
       "      <th>BREACHES</th>\n",
       "    </tr>\n",
       "  </thead>\n",
       "  <tbody>\n",
       "    <tr>\n",
       "      <th>0</th>\n",
       "      <td>2019-04-01</td>\n",
       "      <td>2019-20</td>\n",
       "      <td>APR</td>\n",
       "      <td>2WW</td>\n",
       "      <td>NCN</td>\n",
       "      <td>NaN</td>\n",
       "      <td>Suspected skin cancer</td>\n",
       "      <td>1.0</td>\n",
       "      <td>1.0</td>\n",
       "      <td>0.0</td>\n",
       "    </tr>\n",
       "    <tr>\n",
       "      <th>1</th>\n",
       "      <td>2019-04-01</td>\n",
       "      <td>2019-20</td>\n",
       "      <td>APR</td>\n",
       "      <td>2WW</td>\n",
       "      <td>R1F</td>\n",
       "      <td>NaN</td>\n",
       "      <td>Suspected lower gastrointestinal cancer</td>\n",
       "      <td>1.0</td>\n",
       "      <td>1.0</td>\n",
       "      <td>0.0</td>\n",
       "    </tr>\n",
       "    <tr>\n",
       "      <th>2</th>\n",
       "      <td>2019-04-01</td>\n",
       "      <td>2019-20</td>\n",
       "      <td>APR</td>\n",
       "      <td>2WW</td>\n",
       "      <td>R1H</td>\n",
       "      <td>NaN</td>\n",
       "      <td>Suspected brain/central nervous system tumours</td>\n",
       "      <td>7.0</td>\n",
       "      <td>7.0</td>\n",
       "      <td>0.0</td>\n",
       "    </tr>\n",
       "    <tr>\n",
       "      <th>3</th>\n",
       "      <td>2019-04-01</td>\n",
       "      <td>2019-20</td>\n",
       "      <td>APR</td>\n",
       "      <td>2WW</td>\n",
       "      <td>R1H</td>\n",
       "      <td>NaN</td>\n",
       "      <td>Suspected breast cancer</td>\n",
       "      <td>645.0</td>\n",
       "      <td>642.0</td>\n",
       "      <td>3.0</td>\n",
       "    </tr>\n",
       "    <tr>\n",
       "      <th>4</th>\n",
       "      <td>2019-04-01</td>\n",
       "      <td>2019-20</td>\n",
       "      <td>APR</td>\n",
       "      <td>2WW</td>\n",
       "      <td>R1H</td>\n",
       "      <td>NaN</td>\n",
       "      <td>Suspected children's cancer</td>\n",
       "      <td>20.0</td>\n",
       "      <td>20.0</td>\n",
       "      <td>0.0</td>\n",
       "    </tr>\n",
       "  </tbody>\n",
       "</table>\n",
       "</div>"
      ],
      "text/plain": [
       "      PERIOD     YEAR MONTH STANDARD ORG CODE CARE SETTING  \\\n",
       "0 2019-04-01  2019-20   APR      2WW      NCN          NaN   \n",
       "1 2019-04-01  2019-20   APR      2WW      R1F          NaN   \n",
       "2 2019-04-01  2019-20   APR      2WW      R1H          NaN   \n",
       "3 2019-04-01  2019-20   APR      2WW      R1H          NaN   \n",
       "4 2019-04-01  2019-20   APR      2WW      R1H          NaN   \n",
       "\n",
       "                                      CANCER TYPE  TOTAL TREATED  \\\n",
       "0                           Suspected skin cancer            1.0   \n",
       "1         Suspected lower gastrointestinal cancer            1.0   \n",
       "2  Suspected brain/central nervous system tumours            7.0   \n",
       "3                         Suspected breast cancer          645.0   \n",
       "4                     Suspected children's cancer           20.0   \n",
       "\n",
       "   WITHIN STANDARD  BREACHES  \n",
       "0              1.0       0.0  \n",
       "1              1.0       0.0  \n",
       "2              7.0       0.0  \n",
       "3            642.0       3.0  \n",
       "4             20.0       0.0  "
      ]
     },
     "execution_count": 1,
     "metadata": {},
     "output_type": "execute_result"
    }
   ],
   "source": [
    "import pandas as pd\n",
    "\n",
    "df2020 = pd.read_excel (r'\\\\christie\\dfsroot$\\homedrives1\\Sophie.Man\\CancerWaitTime20-21.xlsx')\n",
    "df2019 = pd.read_excel (r'\\\\christie\\dfsroot$\\homedrives1\\Sophie.Man\\CancerWaitTime19-20.xlsx')\n",
    "data = pd.concat([df2019,df2020])\n",
    "data.head()"
   ]
  },
  {
   "cell_type": "code",
   "execution_count": 2,
   "id": "90dadbbf",
   "metadata": {},
   "outputs": [
    {
     "data": {
      "text/html": [
       "<div>\n",
       "<style scoped>\n",
       "    .dataframe tbody tr th:only-of-type {\n",
       "        vertical-align: middle;\n",
       "    }\n",
       "\n",
       "    .dataframe tbody tr th {\n",
       "        vertical-align: top;\n",
       "    }\n",
       "\n",
       "    .dataframe thead th {\n",
       "        text-align: right;\n",
       "    }\n",
       "</style>\n",
       "<table border=\"1\" class=\"dataframe\">\n",
       "  <thead>\n",
       "    <tr style=\"text-align: right;\">\n",
       "      <th></th>\n",
       "      <th>PERIOD</th>\n",
       "      <th>YEAR</th>\n",
       "      <th>MONTH</th>\n",
       "      <th>STANDARD</th>\n",
       "      <th>ORG CODE</th>\n",
       "      <th>CARE SETTING</th>\n",
       "      <th>CANCER TYPE</th>\n",
       "      <th>TOTAL TREATED</th>\n",
       "      <th>WITHIN STANDARD</th>\n",
       "      <th>BREACHES</th>\n",
       "    </tr>\n",
       "  </thead>\n",
       "  <tbody>\n",
       "    <tr>\n",
       "      <th>72004</th>\n",
       "      <td>2021-03-01</td>\n",
       "      <td>2020-21</td>\n",
       "      <td>MAR</td>\n",
       "      <td>62 Days (Screening)</td>\n",
       "      <td>RXW</td>\n",
       "      <td>Non-admitted</td>\n",
       "      <td>ALL CANCERS</td>\n",
       "      <td>2.0</td>\n",
       "      <td>2.0</td>\n",
       "      <td>0.0</td>\n",
       "    </tr>\n",
       "    <tr>\n",
       "      <th>72005</th>\n",
       "      <td>2021-03-01</td>\n",
       "      <td>2020-21</td>\n",
       "      <td>MAR</td>\n",
       "      <td>62 Days (Screening)</td>\n",
       "      <td>RYJ</td>\n",
       "      <td>Admitted</td>\n",
       "      <td>ALL CANCERS</td>\n",
       "      <td>15.5</td>\n",
       "      <td>11.0</td>\n",
       "      <td>4.5</td>\n",
       "    </tr>\n",
       "    <tr>\n",
       "      <th>72006</th>\n",
       "      <td>2021-03-01</td>\n",
       "      <td>2020-21</td>\n",
       "      <td>MAR</td>\n",
       "      <td>62 Days (Screening)</td>\n",
       "      <td>RYJ</td>\n",
       "      <td>Non-admitted</td>\n",
       "      <td>ALL CANCERS</td>\n",
       "      <td>1.5</td>\n",
       "      <td>1.0</td>\n",
       "      <td>0.5</td>\n",
       "    </tr>\n",
       "    <tr>\n",
       "      <th>72007</th>\n",
       "      <td>2021-03-01</td>\n",
       "      <td>2020-21</td>\n",
       "      <td>MAR</td>\n",
       "      <td>62 Days (Screening)</td>\n",
       "      <td>RYR</td>\n",
       "      <td>Admitted</td>\n",
       "      <td>ALL CANCERS</td>\n",
       "      <td>28.0</td>\n",
       "      <td>15.5</td>\n",
       "      <td>12.5</td>\n",
       "    </tr>\n",
       "    <tr>\n",
       "      <th>72008</th>\n",
       "      <td>2021-03-01</td>\n",
       "      <td>2020-21</td>\n",
       "      <td>MAR</td>\n",
       "      <td>62 Days (Screening)</td>\n",
       "      <td>RYR</td>\n",
       "      <td>Non-admitted</td>\n",
       "      <td>ALL CANCERS</td>\n",
       "      <td>2.0</td>\n",
       "      <td>1.0</td>\n",
       "      <td>1.0</td>\n",
       "    </tr>\n",
       "  </tbody>\n",
       "</table>\n",
       "</div>"
      ],
      "text/plain": [
       "          PERIOD     YEAR MONTH             STANDARD ORG CODE  CARE SETTING  \\\n",
       "72004 2021-03-01  2020-21   MAR  62 Days (Screening)      RXW  Non-admitted   \n",
       "72005 2021-03-01  2020-21   MAR  62 Days (Screening)      RYJ      Admitted   \n",
       "72006 2021-03-01  2020-21   MAR  62 Days (Screening)      RYJ  Non-admitted   \n",
       "72007 2021-03-01  2020-21   MAR  62 Days (Screening)      RYR      Admitted   \n",
       "72008 2021-03-01  2020-21   MAR  62 Days (Screening)      RYR  Non-admitted   \n",
       "\n",
       "       CANCER TYPE  TOTAL TREATED  WITHIN STANDARD  BREACHES  \n",
       "72004  ALL CANCERS            2.0              2.0       0.0  \n",
       "72005  ALL CANCERS           15.5             11.0       4.5  \n",
       "72006  ALL CANCERS            1.5              1.0       0.5  \n",
       "72007  ALL CANCERS           28.0             15.5      12.5  \n",
       "72008  ALL CANCERS            2.0              1.0       1.0  "
      ]
     },
     "execution_count": 2,
     "metadata": {},
     "output_type": "execute_result"
    }
   ],
   "source": [
    "data.tail()"
   ]
  },
  {
   "cell_type": "markdown",
   "id": "8243360a",
   "metadata": {},
   "source": [
    "Need to convert the 'PERIOD' column from string to integer"
   ]
  },
  {
   "cell_type": "code",
   "execution_count": 3,
   "id": "2326eb3a",
   "metadata": {},
   "outputs": [
    {
     "data": {
      "text/plain": [
       "PERIOD             datetime64[ns]\n",
       "YEAR                       object\n",
       "MONTH                      object\n",
       "STANDARD                   object\n",
       "ORG CODE                   object\n",
       "CARE SETTING               object\n",
       "CANCER TYPE                object\n",
       "TOTAL TREATED               int32\n",
       "WITHIN STANDARD             int32\n",
       "BREACHES                    int32\n",
       "dtype: object"
      ]
     },
     "execution_count": 3,
     "metadata": {},
     "output_type": "execute_result"
    }
   ],
   "source": [
    "data['TOTAL TREATED'] = data['TOTAL TREATED'].astype(int)\n",
    "data['WITHIN STANDARD'] = data['WITHIN STANDARD'].astype(int)\n",
    "data['BREACHES'] = data['BREACHES'].astype(int)\n",
    "data.dtypes"
   ]
  },
  {
   "cell_type": "markdown",
   "id": "9ffd9cc7",
   "metadata": {},
   "source": [
    "Clean up data"
   ]
  },
  {
   "cell_type": "code",
   "execution_count": 4,
   "id": "5f1e9ed0",
   "metadata": {},
   "outputs": [
    {
     "data": {
      "text/html": [
       "<div>\n",
       "<style scoped>\n",
       "    .dataframe tbody tr th:only-of-type {\n",
       "        vertical-align: middle;\n",
       "    }\n",
       "\n",
       "    .dataframe tbody tr th {\n",
       "        vertical-align: top;\n",
       "    }\n",
       "\n",
       "    .dataframe thead th {\n",
       "        text-align: right;\n",
       "    }\n",
       "</style>\n",
       "<table border=\"1\" class=\"dataframe\">\n",
       "  <thead>\n",
       "    <tr style=\"text-align: right;\">\n",
       "      <th></th>\n",
       "      <th>PERIOD</th>\n",
       "      <th>YEAR</th>\n",
       "      <th>MONTH</th>\n",
       "      <th>STANDARD</th>\n",
       "      <th>ORG CODE</th>\n",
       "      <th>CARE SETTING</th>\n",
       "      <th>CANCER TYPE</th>\n",
       "      <th>TOTAL TREATED</th>\n",
       "      <th>WITHIN STANDARD</th>\n",
       "      <th>BREACHES</th>\n",
       "    </tr>\n",
       "  </thead>\n",
       "  <tbody>\n",
       "    <tr>\n",
       "      <th>0</th>\n",
       "      <td>False</td>\n",
       "      <td>False</td>\n",
       "      <td>False</td>\n",
       "      <td>False</td>\n",
       "      <td>False</td>\n",
       "      <td>True</td>\n",
       "      <td>False</td>\n",
       "      <td>False</td>\n",
       "      <td>False</td>\n",
       "      <td>False</td>\n",
       "    </tr>\n",
       "    <tr>\n",
       "      <th>1</th>\n",
       "      <td>False</td>\n",
       "      <td>False</td>\n",
       "      <td>False</td>\n",
       "      <td>False</td>\n",
       "      <td>False</td>\n",
       "      <td>True</td>\n",
       "      <td>False</td>\n",
       "      <td>False</td>\n",
       "      <td>False</td>\n",
       "      <td>False</td>\n",
       "    </tr>\n",
       "    <tr>\n",
       "      <th>2</th>\n",
       "      <td>False</td>\n",
       "      <td>False</td>\n",
       "      <td>False</td>\n",
       "      <td>False</td>\n",
       "      <td>False</td>\n",
       "      <td>True</td>\n",
       "      <td>False</td>\n",
       "      <td>False</td>\n",
       "      <td>False</td>\n",
       "      <td>False</td>\n",
       "    </tr>\n",
       "    <tr>\n",
       "      <th>3</th>\n",
       "      <td>False</td>\n",
       "      <td>False</td>\n",
       "      <td>False</td>\n",
       "      <td>False</td>\n",
       "      <td>False</td>\n",
       "      <td>True</td>\n",
       "      <td>False</td>\n",
       "      <td>False</td>\n",
       "      <td>False</td>\n",
       "      <td>False</td>\n",
       "    </tr>\n",
       "    <tr>\n",
       "      <th>4</th>\n",
       "      <td>False</td>\n",
       "      <td>False</td>\n",
       "      <td>False</td>\n",
       "      <td>False</td>\n",
       "      <td>False</td>\n",
       "      <td>True</td>\n",
       "      <td>False</td>\n",
       "      <td>False</td>\n",
       "      <td>False</td>\n",
       "      <td>False</td>\n",
       "    </tr>\n",
       "    <tr>\n",
       "      <th>...</th>\n",
       "      <td>...</td>\n",
       "      <td>...</td>\n",
       "      <td>...</td>\n",
       "      <td>...</td>\n",
       "      <td>...</td>\n",
       "      <td>...</td>\n",
       "      <td>...</td>\n",
       "      <td>...</td>\n",
       "      <td>...</td>\n",
       "      <td>...</td>\n",
       "    </tr>\n",
       "    <tr>\n",
       "      <th>72004</th>\n",
       "      <td>False</td>\n",
       "      <td>False</td>\n",
       "      <td>False</td>\n",
       "      <td>False</td>\n",
       "      <td>False</td>\n",
       "      <td>False</td>\n",
       "      <td>False</td>\n",
       "      <td>False</td>\n",
       "      <td>False</td>\n",
       "      <td>False</td>\n",
       "    </tr>\n",
       "    <tr>\n",
       "      <th>72005</th>\n",
       "      <td>False</td>\n",
       "      <td>False</td>\n",
       "      <td>False</td>\n",
       "      <td>False</td>\n",
       "      <td>False</td>\n",
       "      <td>False</td>\n",
       "      <td>False</td>\n",
       "      <td>False</td>\n",
       "      <td>False</td>\n",
       "      <td>False</td>\n",
       "    </tr>\n",
       "    <tr>\n",
       "      <th>72006</th>\n",
       "      <td>False</td>\n",
       "      <td>False</td>\n",
       "      <td>False</td>\n",
       "      <td>False</td>\n",
       "      <td>False</td>\n",
       "      <td>False</td>\n",
       "      <td>False</td>\n",
       "      <td>False</td>\n",
       "      <td>False</td>\n",
       "      <td>False</td>\n",
       "    </tr>\n",
       "    <tr>\n",
       "      <th>72007</th>\n",
       "      <td>False</td>\n",
       "      <td>False</td>\n",
       "      <td>False</td>\n",
       "      <td>False</td>\n",
       "      <td>False</td>\n",
       "      <td>False</td>\n",
       "      <td>False</td>\n",
       "      <td>False</td>\n",
       "      <td>False</td>\n",
       "      <td>False</td>\n",
       "    </tr>\n",
       "    <tr>\n",
       "      <th>72008</th>\n",
       "      <td>False</td>\n",
       "      <td>False</td>\n",
       "      <td>False</td>\n",
       "      <td>False</td>\n",
       "      <td>False</td>\n",
       "      <td>False</td>\n",
       "      <td>False</td>\n",
       "      <td>False</td>\n",
       "      <td>False</td>\n",
       "      <td>False</td>\n",
       "    </tr>\n",
       "  </tbody>\n",
       "</table>\n",
       "<p>194446 rows × 10 columns</p>\n",
       "</div>"
      ],
      "text/plain": [
       "       PERIOD   YEAR  MONTH  STANDARD  ORG CODE  CARE SETTING  CANCER TYPE  \\\n",
       "0       False  False  False     False     False          True        False   \n",
       "1       False  False  False     False     False          True        False   \n",
       "2       False  False  False     False     False          True        False   \n",
       "3       False  False  False     False     False          True        False   \n",
       "4       False  False  False     False     False          True        False   \n",
       "...       ...    ...    ...       ...       ...           ...          ...   \n",
       "72004   False  False  False     False     False         False        False   \n",
       "72005   False  False  False     False     False         False        False   \n",
       "72006   False  False  False     False     False         False        False   \n",
       "72007   False  False  False     False     False         False        False   \n",
       "72008   False  False  False     False     False         False        False   \n",
       "\n",
       "       TOTAL TREATED  WITHIN STANDARD  BREACHES  \n",
       "0              False            False     False  \n",
       "1              False            False     False  \n",
       "2              False            False     False  \n",
       "3              False            False     False  \n",
       "4              False            False     False  \n",
       "...              ...              ...       ...  \n",
       "72004          False            False     False  \n",
       "72005          False            False     False  \n",
       "72006          False            False     False  \n",
       "72007          False            False     False  \n",
       "72008          False            False     False  \n",
       "\n",
       "[194446 rows x 10 columns]"
      ]
     },
     "execution_count": 4,
     "metadata": {},
     "output_type": "execute_result"
    }
   ],
   "source": [
    "data.isnull()"
   ]
  },
  {
   "cell_type": "markdown",
   "id": "9e305895",
   "metadata": {},
   "source": [
    "2WW is 2 week wait from referral from (usually) GP to be seen by a specialist. Therefore care setting is unknown/not applicable."
   ]
  },
  {
   "cell_type": "code",
   "execution_count": 5,
   "id": "948df3b1",
   "metadata": {
    "scrolled": false
   },
   "outputs": [
    {
     "data": {
      "text/html": [
       "<div>\n",
       "<style scoped>\n",
       "    .dataframe tbody tr th:only-of-type {\n",
       "        vertical-align: middle;\n",
       "    }\n",
       "\n",
       "    .dataframe tbody tr th {\n",
       "        vertical-align: top;\n",
       "    }\n",
       "\n",
       "    .dataframe thead th {\n",
       "        text-align: right;\n",
       "    }\n",
       "</style>\n",
       "<table border=\"1\" class=\"dataframe\">\n",
       "  <thead>\n",
       "    <tr style=\"text-align: right;\">\n",
       "      <th></th>\n",
       "      <th>PERIOD</th>\n",
       "      <th>YEAR</th>\n",
       "      <th>MONTH</th>\n",
       "      <th>STANDARD</th>\n",
       "      <th>ORG CODE</th>\n",
       "      <th>CARE SETTING</th>\n",
       "      <th>CANCER TYPE</th>\n",
       "      <th>TOTAL TREATED</th>\n",
       "      <th>WITHIN STANDARD</th>\n",
       "      <th>BREACHES</th>\n",
       "    </tr>\n",
       "  </thead>\n",
       "  <tbody>\n",
       "    <tr>\n",
       "      <th>0</th>\n",
       "      <td>2019-04-01</td>\n",
       "      <td>2019-20</td>\n",
       "      <td>APR</td>\n",
       "      <td>2WW</td>\n",
       "      <td>NCN</td>\n",
       "      <td>Unknown</td>\n",
       "      <td>Suspected skin cancer</td>\n",
       "      <td>1</td>\n",
       "      <td>1</td>\n",
       "      <td>0</td>\n",
       "    </tr>\n",
       "    <tr>\n",
       "      <th>1</th>\n",
       "      <td>2019-04-01</td>\n",
       "      <td>2019-20</td>\n",
       "      <td>APR</td>\n",
       "      <td>2WW</td>\n",
       "      <td>R1F</td>\n",
       "      <td>Unknown</td>\n",
       "      <td>Suspected lower gastrointestinal cancer</td>\n",
       "      <td>1</td>\n",
       "      <td>1</td>\n",
       "      <td>0</td>\n",
       "    </tr>\n",
       "    <tr>\n",
       "      <th>2</th>\n",
       "      <td>2019-04-01</td>\n",
       "      <td>2019-20</td>\n",
       "      <td>APR</td>\n",
       "      <td>2WW</td>\n",
       "      <td>R1H</td>\n",
       "      <td>Unknown</td>\n",
       "      <td>Suspected brain/central nervous system tumours</td>\n",
       "      <td>7</td>\n",
       "      <td>7</td>\n",
       "      <td>0</td>\n",
       "    </tr>\n",
       "    <tr>\n",
       "      <th>3</th>\n",
       "      <td>2019-04-01</td>\n",
       "      <td>2019-20</td>\n",
       "      <td>APR</td>\n",
       "      <td>2WW</td>\n",
       "      <td>R1H</td>\n",
       "      <td>Unknown</td>\n",
       "      <td>Suspected breast cancer</td>\n",
       "      <td>645</td>\n",
       "      <td>642</td>\n",
       "      <td>3</td>\n",
       "    </tr>\n",
       "    <tr>\n",
       "      <th>4</th>\n",
       "      <td>2019-04-01</td>\n",
       "      <td>2019-20</td>\n",
       "      <td>APR</td>\n",
       "      <td>2WW</td>\n",
       "      <td>R1H</td>\n",
       "      <td>Unknown</td>\n",
       "      <td>Suspected children's cancer</td>\n",
       "      <td>20</td>\n",
       "      <td>20</td>\n",
       "      <td>0</td>\n",
       "    </tr>\n",
       "  </tbody>\n",
       "</table>\n",
       "</div>"
      ],
      "text/plain": [
       "      PERIOD     YEAR MONTH STANDARD ORG CODE CARE SETTING  \\\n",
       "0 2019-04-01  2019-20   APR      2WW      NCN      Unknown   \n",
       "1 2019-04-01  2019-20   APR      2WW      R1F      Unknown   \n",
       "2 2019-04-01  2019-20   APR      2WW      R1H      Unknown   \n",
       "3 2019-04-01  2019-20   APR      2WW      R1H      Unknown   \n",
       "4 2019-04-01  2019-20   APR      2WW      R1H      Unknown   \n",
       "\n",
       "                                      CANCER TYPE  TOTAL TREATED  \\\n",
       "0                           Suspected skin cancer              1   \n",
       "1         Suspected lower gastrointestinal cancer              1   \n",
       "2  Suspected brain/central nervous system tumours              7   \n",
       "3                         Suspected breast cancer            645   \n",
       "4                     Suspected children's cancer             20   \n",
       "\n",
       "   WITHIN STANDARD  BREACHES  \n",
       "0                1         0  \n",
       "1                1         0  \n",
       "2                7         0  \n",
       "3              642         3  \n",
       "4               20         0  "
      ]
     },
     "execution_count": 5,
     "metadata": {},
     "output_type": "execute_result"
    }
   ],
   "source": [
    "data['CARE SETTING'] = data['CARE SETTING'].fillna('Unknown')\n",
    "data.head()"
   ]
  },
  {
   "cell_type": "markdown",
   "id": "67f2072e",
   "metadata": {},
   "source": [
    "Percentage of 'Breaches' to total amount of cases treated will be important for comparison."
   ]
  },
  {
   "cell_type": "code",
   "execution_count": 6,
   "id": "2e467975",
   "metadata": {},
   "outputs": [
    {
     "data": {
      "text/html": [
       "<div>\n",
       "<style scoped>\n",
       "    .dataframe tbody tr th:only-of-type {\n",
       "        vertical-align: middle;\n",
       "    }\n",
       "\n",
       "    .dataframe tbody tr th {\n",
       "        vertical-align: top;\n",
       "    }\n",
       "\n",
       "    .dataframe thead th {\n",
       "        text-align: right;\n",
       "    }\n",
       "</style>\n",
       "<table border=\"1\" class=\"dataframe\">\n",
       "  <thead>\n",
       "    <tr style=\"text-align: right;\">\n",
       "      <th></th>\n",
       "      <th>PERIOD</th>\n",
       "      <th>YEAR</th>\n",
       "      <th>MONTH</th>\n",
       "      <th>STANDARD</th>\n",
       "      <th>ORG CODE</th>\n",
       "      <th>CARE SETTING</th>\n",
       "      <th>CANCER TYPE</th>\n",
       "      <th>TOTAL TREATED</th>\n",
       "      <th>WITHIN STANDARD</th>\n",
       "      <th>BREACHES</th>\n",
       "      <th>BREACH PROP</th>\n",
       "    </tr>\n",
       "  </thead>\n",
       "  <tbody>\n",
       "    <tr>\n",
       "      <th>72004</th>\n",
       "      <td>2021-03-01</td>\n",
       "      <td>2020-21</td>\n",
       "      <td>MAR</td>\n",
       "      <td>62 Days (Screening)</td>\n",
       "      <td>RXW</td>\n",
       "      <td>Non-admitted</td>\n",
       "      <td>ALL CANCERS</td>\n",
       "      <td>2</td>\n",
       "      <td>2</td>\n",
       "      <td>0</td>\n",
       "      <td>0.000000</td>\n",
       "    </tr>\n",
       "    <tr>\n",
       "      <th>72005</th>\n",
       "      <td>2021-03-01</td>\n",
       "      <td>2020-21</td>\n",
       "      <td>MAR</td>\n",
       "      <td>62 Days (Screening)</td>\n",
       "      <td>RYJ</td>\n",
       "      <td>Admitted</td>\n",
       "      <td>ALL CANCERS</td>\n",
       "      <td>15</td>\n",
       "      <td>11</td>\n",
       "      <td>4</td>\n",
       "      <td>26.666667</td>\n",
       "    </tr>\n",
       "    <tr>\n",
       "      <th>72006</th>\n",
       "      <td>2021-03-01</td>\n",
       "      <td>2020-21</td>\n",
       "      <td>MAR</td>\n",
       "      <td>62 Days (Screening)</td>\n",
       "      <td>RYJ</td>\n",
       "      <td>Non-admitted</td>\n",
       "      <td>ALL CANCERS</td>\n",
       "      <td>1</td>\n",
       "      <td>1</td>\n",
       "      <td>0</td>\n",
       "      <td>0.000000</td>\n",
       "    </tr>\n",
       "    <tr>\n",
       "      <th>72007</th>\n",
       "      <td>2021-03-01</td>\n",
       "      <td>2020-21</td>\n",
       "      <td>MAR</td>\n",
       "      <td>62 Days (Screening)</td>\n",
       "      <td>RYR</td>\n",
       "      <td>Admitted</td>\n",
       "      <td>ALL CANCERS</td>\n",
       "      <td>28</td>\n",
       "      <td>15</td>\n",
       "      <td>12</td>\n",
       "      <td>42.857143</td>\n",
       "    </tr>\n",
       "    <tr>\n",
       "      <th>72008</th>\n",
       "      <td>2021-03-01</td>\n",
       "      <td>2020-21</td>\n",
       "      <td>MAR</td>\n",
       "      <td>62 Days (Screening)</td>\n",
       "      <td>RYR</td>\n",
       "      <td>Non-admitted</td>\n",
       "      <td>ALL CANCERS</td>\n",
       "      <td>2</td>\n",
       "      <td>1</td>\n",
       "      <td>1</td>\n",
       "      <td>50.000000</td>\n",
       "    </tr>\n",
       "  </tbody>\n",
       "</table>\n",
       "</div>"
      ],
      "text/plain": [
       "          PERIOD     YEAR MONTH             STANDARD ORG CODE  CARE SETTING  \\\n",
       "72004 2021-03-01  2020-21   MAR  62 Days (Screening)      RXW  Non-admitted   \n",
       "72005 2021-03-01  2020-21   MAR  62 Days (Screening)      RYJ      Admitted   \n",
       "72006 2021-03-01  2020-21   MAR  62 Days (Screening)      RYJ  Non-admitted   \n",
       "72007 2021-03-01  2020-21   MAR  62 Days (Screening)      RYR      Admitted   \n",
       "72008 2021-03-01  2020-21   MAR  62 Days (Screening)      RYR  Non-admitted   \n",
       "\n",
       "       CANCER TYPE  TOTAL TREATED  WITHIN STANDARD  BREACHES  BREACH PROP  \n",
       "72004  ALL CANCERS              2                2         0     0.000000  \n",
       "72005  ALL CANCERS             15               11         4    26.666667  \n",
       "72006  ALL CANCERS              1                1         0     0.000000  \n",
       "72007  ALL CANCERS             28               15        12    42.857143  \n",
       "72008  ALL CANCERS              2                1         1    50.000000  "
      ]
     },
     "execution_count": 6,
     "metadata": {},
     "output_type": "execute_result"
    }
   ],
   "source": [
    "data['BREACH PROP'] = (data['BREACHES'] / data['TOTAL TREATED']) * 100\n",
    "data.tail()"
   ]
  },
  {
   "cell_type": "code",
   "execution_count": 7,
   "id": "cecae241",
   "metadata": {},
   "outputs": [
    {
     "data": {
      "text/plain": [
       "array(['Suspected skin cancer', 'Suspected lower gastrointestinal cancer',\n",
       "       'Suspected brain/central nervous system tumours',\n",
       "       'Suspected breast cancer', \"Suspected children's cancer\",\n",
       "       'Suspected gynaecological cancer',\n",
       "       'Suspected haematological malignancies (excluding acute leukaemia)',\n",
       "       'Suspected head & neck cancer', 'Suspected lung cancer',\n",
       "       'Suspected testicular cancer',\n",
       "       'Suspected upper gastrointestinal cancer',\n",
       "       'Suspected urological malignancies (excluding testicular)',\n",
       "       'Suspected acute leukaemia', 'Suspected other cancer',\n",
       "       'Suspected sarcoma',\n",
       "       'Exhibited (non-cancer) breast symptoms - cancer not initially suspected',\n",
       "       'ALL CANCERS', 'Urological', 'Breast', 'Lower Gastrointestinal',\n",
       "       'Lung', 'Other', 'Skin', 'ANTI-CANCER DRUG REGIMEN',\n",
       "       'RADIOTHERAPY', 'SURGERY', 'Urological (Excluding Testicular)'],\n",
       "      dtype=object)"
      ]
     },
     "execution_count": 7,
     "metadata": {},
     "output_type": "execute_result"
    }
   ],
   "source": [
    "data['CANCER TYPE'].unique()"
   ]
  },
  {
   "cell_type": "markdown",
   "id": "31d165da",
   "metadata": {},
   "source": [
    "#'ALL CANCERS' is the total for each organisation at each time point, so we should only use this, or the individual cancer type seperately. They should not be used together. "
   ]
  },
  {
   "cell_type": "code",
   "execution_count": 8,
   "id": "d0a5a095",
   "metadata": {},
   "outputs": [
    {
     "data": {
      "text/plain": [
       "ALL CANCERS                                                                35238\n",
       "Other                                                                      17578\n",
       "Breast                                                                     13427\n",
       "Lung                                                                       13151\n",
       "Lower Gastrointestinal                                                     13150\n",
       "Skin                                                                       12414\n",
       "Urological                                                                  7836\n",
       "ANTI-CANCER DRUG REGIMEN                                                    7788\n",
       "Urological (Excluding Testicular)                                           7162\n",
       "SURGERY                                                                     6699\n",
       "Suspected breast cancer                                                     5336\n",
       "Suspected skin cancer                                                       5116\n",
       "Suspected head & neck cancer                                                4814\n",
       "Suspected lower gastrointestinal cancer                                     4798\n",
       "Exhibited (non-cancer) breast symptoms - cancer not initially suspected     4700\n",
       "Suspected urological malignancies (excluding testicular)                    4461\n",
       "Suspected gynaecological cancer                                             4304\n",
       "Suspected upper gastrointestinal cancer                                     4246\n",
       "RADIOTHERAPY                                                                4093\n",
       "Suspected lung cancer                                                       3808\n",
       "Suspected haematological malignancies (excluding acute leukaemia)           3532\n",
       "Suspected testicular cancer                                                 2994\n",
       "Suspected children's cancer                                                 2888\n",
       "Suspected brain/central nervous system tumours                              1910\n",
       "Suspected sarcoma                                                           1723\n",
       "Suspected other cancer                                                      1028\n",
       "Suspected acute leukaemia                                                    252\n",
       "Name: CANCER TYPE, dtype: int64"
      ]
     },
     "execution_count": 8,
     "metadata": {},
     "output_type": "execute_result"
    }
   ],
   "source": [
    "data['CANCER TYPE'].value_counts()"
   ]
  },
  {
   "cell_type": "code",
   "execution_count": 9,
   "id": "cce221ed",
   "metadata": {},
   "outputs": [
    {
     "data": {
      "text/html": [
       "<div>\n",
       "<style scoped>\n",
       "    .dataframe tbody tr th:only-of-type {\n",
       "        vertical-align: middle;\n",
       "    }\n",
       "\n",
       "    .dataframe tbody tr th {\n",
       "        vertical-align: top;\n",
       "    }\n",
       "\n",
       "    .dataframe thead th {\n",
       "        text-align: right;\n",
       "    }\n",
       "</style>\n",
       "<table border=\"1\" class=\"dataframe\">\n",
       "  <thead>\n",
       "    <tr style=\"text-align: right;\">\n",
       "      <th></th>\n",
       "      <th>TOTAL TREATED</th>\n",
       "      <th>WITHIN STANDARD</th>\n",
       "      <th>BREACHES</th>\n",
       "      <th>BREACH PROP</th>\n",
       "    </tr>\n",
       "    <tr>\n",
       "      <th>CANCER TYPE</th>\n",
       "      <th></th>\n",
       "      <th></th>\n",
       "      <th></th>\n",
       "      <th></th>\n",
       "    </tr>\n",
       "  </thead>\n",
       "  <tbody>\n",
       "    <tr>\n",
       "      <th>ALL CANCERS</th>\n",
       "      <td>1018918</td>\n",
       "      <td>895892</td>\n",
       "      <td>120183</td>\n",
       "      <td>485503.332214</td>\n",
       "    </tr>\n",
       "    <tr>\n",
       "      <th>ANTI-CANCER DRUG REGIMEN</th>\n",
       "      <td>187718</td>\n",
       "      <td>185981</td>\n",
       "      <td>1737</td>\n",
       "      <td>7266.709098</td>\n",
       "    </tr>\n",
       "    <tr>\n",
       "      <th>Breast</th>\n",
       "      <td>136512</td>\n",
       "      <td>127085</td>\n",
       "      <td>9359</td>\n",
       "      <td>83668.698551</td>\n",
       "    </tr>\n",
       "    <tr>\n",
       "      <th>Exhibited (non-cancer) breast symptoms - cancer not initially suspected</th>\n",
       "      <td>305171</td>\n",
       "      <td>245597</td>\n",
       "      <td>59574</td>\n",
       "      <td>82425.536337</td>\n",
       "    </tr>\n",
       "    <tr>\n",
       "      <th>Lower Gastrointestinal</th>\n",
       "      <td>95180</td>\n",
       "      <td>79376</td>\n",
       "      <td>15577</td>\n",
       "      <td>259088.394608</td>\n",
       "    </tr>\n",
       "    <tr>\n",
       "      <th>Lung</th>\n",
       "      <td>84663</td>\n",
       "      <td>76113</td>\n",
       "      <td>8051</td>\n",
       "      <td>185004.951504</td>\n",
       "    </tr>\n",
       "    <tr>\n",
       "      <th>Other</th>\n",
       "      <td>230710</td>\n",
       "      <td>201439</td>\n",
       "      <td>28237</td>\n",
       "      <td>249879.306742</td>\n",
       "    </tr>\n",
       "    <tr>\n",
       "      <th>RADIOTHERAPY</th>\n",
       "      <td>189682</td>\n",
       "      <td>182980</td>\n",
       "      <td>6702</td>\n",
       "      <td>15717.824903</td>\n",
       "    </tr>\n",
       "    <tr>\n",
       "      <th>SURGERY</th>\n",
       "      <td>109749</td>\n",
       "      <td>98463</td>\n",
       "      <td>11286</td>\n",
       "      <td>48208.177788</td>\n",
       "    </tr>\n",
       "    <tr>\n",
       "      <th>Skin</th>\n",
       "      <td>175867</td>\n",
       "      <td>165435</td>\n",
       "      <td>10243</td>\n",
       "      <td>82314.824915</td>\n",
       "    </tr>\n",
       "    <tr>\n",
       "      <th>Suspected acute leukaemia</th>\n",
       "      <td>561</td>\n",
       "      <td>535</td>\n",
       "      <td>26</td>\n",
       "      <td>923.391690</td>\n",
       "    </tr>\n",
       "    <tr>\n",
       "      <th>Suspected brain/central nervous system tumours</th>\n",
       "      <td>19067</td>\n",
       "      <td>18181</td>\n",
       "      <td>886</td>\n",
       "      <td>10609.184565</td>\n",
       "    </tr>\n",
       "    <tr>\n",
       "      <th>Suspected breast cancer</th>\n",
       "      <td>860639</td>\n",
       "      <td>729507</td>\n",
       "      <td>131132</td>\n",
       "      <td>74753.664563</td>\n",
       "    </tr>\n",
       "    <tr>\n",
       "      <th>Suspected children's cancer</th>\n",
       "      <td>18270</td>\n",
       "      <td>16935</td>\n",
       "      <td>1335</td>\n",
       "      <td>23242.343000</td>\n",
       "    </tr>\n",
       "    <tr>\n",
       "      <th>Suspected gynaecological cancer</th>\n",
       "      <td>413370</td>\n",
       "      <td>384813</td>\n",
       "      <td>28557</td>\n",
       "      <td>30649.850321</td>\n",
       "    </tr>\n",
       "    <tr>\n",
       "      <th>Suspected haematological malignancies (excluding acute leukaemia)</th>\n",
       "      <td>41448</td>\n",
       "      <td>39579</td>\n",
       "      <td>1869</td>\n",
       "      <td>16585.857430</td>\n",
       "    </tr>\n",
       "    <tr>\n",
       "      <th>Suspected head &amp; neck cancer</th>\n",
       "      <td>434131</td>\n",
       "      <td>410920</td>\n",
       "      <td>23211</td>\n",
       "      <td>29067.366922</td>\n",
       "    </tr>\n",
       "    <tr>\n",
       "      <th>Suspected lower gastrointestinal cancer</th>\n",
       "      <td>820697</td>\n",
       "      <td>720766</td>\n",
       "      <td>99931</td>\n",
       "      <td>63646.764918</td>\n",
       "    </tr>\n",
       "    <tr>\n",
       "      <th>Suspected lung cancer</th>\n",
       "      <td>108312</td>\n",
       "      <td>102888</td>\n",
       "      <td>5424</td>\n",
       "      <td>20984.413346</td>\n",
       "    </tr>\n",
       "    <tr>\n",
       "      <th>Suspected other cancer</th>\n",
       "      <td>5801</td>\n",
       "      <td>5326</td>\n",
       "      <td>475</td>\n",
       "      <td>9207.059372</td>\n",
       "    </tr>\n",
       "    <tr>\n",
       "      <th>Suspected sarcoma</th>\n",
       "      <td>22898</td>\n",
       "      <td>20708</td>\n",
       "      <td>2190</td>\n",
       "      <td>17511.884515</td>\n",
       "    </tr>\n",
       "    <tr>\n",
       "      <th>Suspected skin cancer</th>\n",
       "      <td>932440</td>\n",
       "      <td>842537</td>\n",
       "      <td>89903</td>\n",
       "      <td>50038.094640</td>\n",
       "    </tr>\n",
       "    <tr>\n",
       "      <th>Suspected testicular cancer</th>\n",
       "      <td>21880</td>\n",
       "      <td>21113</td>\n",
       "      <td>767</td>\n",
       "      <td>9005.450218</td>\n",
       "    </tr>\n",
       "    <tr>\n",
       "      <th>Suspected upper gastrointestinal cancer</th>\n",
       "      <td>374395</td>\n",
       "      <td>330329</td>\n",
       "      <td>44066</td>\n",
       "      <td>49298.121466</td>\n",
       "    </tr>\n",
       "    <tr>\n",
       "      <th>Suspected urological malignancies (excluding testicular)</th>\n",
       "      <td>393579</td>\n",
       "      <td>369117</td>\n",
       "      <td>24462</td>\n",
       "      <td>28912.244595</td>\n",
       "    </tr>\n",
       "    <tr>\n",
       "      <th>Urological</th>\n",
       "      <td>110546</td>\n",
       "      <td>103080</td>\n",
       "      <td>7466</td>\n",
       "      <td>53081.580554</td>\n",
       "    </tr>\n",
       "    <tr>\n",
       "      <th>Urological (Excluding Testicular)</th>\n",
       "      <td>67541</td>\n",
       "      <td>47409</td>\n",
       "      <td>19708</td>\n",
       "      <td>208545.575648</td>\n",
       "    </tr>\n",
       "  </tbody>\n",
       "</table>\n",
       "</div>"
      ],
      "text/plain": [
       "                                                    TOTAL TREATED  \\\n",
       "CANCER TYPE                                                         \n",
       "ALL CANCERS                                               1018918   \n",
       "ANTI-CANCER DRUG REGIMEN                                   187718   \n",
       "Breast                                                     136512   \n",
       "Exhibited (non-cancer) breast symptoms - cancer...         305171   \n",
       "Lower Gastrointestinal                                      95180   \n",
       "Lung                                                        84663   \n",
       "Other                                                      230710   \n",
       "RADIOTHERAPY                                               189682   \n",
       "SURGERY                                                    109749   \n",
       "Skin                                                       175867   \n",
       "Suspected acute leukaemia                                     561   \n",
       "Suspected brain/central nervous system tumours              19067   \n",
       "Suspected breast cancer                                    860639   \n",
       "Suspected children's cancer                                 18270   \n",
       "Suspected gynaecological cancer                            413370   \n",
       "Suspected haematological malignancies (excludin...          41448   \n",
       "Suspected head & neck cancer                               434131   \n",
       "Suspected lower gastrointestinal cancer                    820697   \n",
       "Suspected lung cancer                                      108312   \n",
       "Suspected other cancer                                       5801   \n",
       "Suspected sarcoma                                           22898   \n",
       "Suspected skin cancer                                      932440   \n",
       "Suspected testicular cancer                                 21880   \n",
       "Suspected upper gastrointestinal cancer                    374395   \n",
       "Suspected urological malignancies (excluding te...         393579   \n",
       "Urological                                                 110546   \n",
       "Urological (Excluding Testicular)                           67541   \n",
       "\n",
       "                                                    WITHIN STANDARD  BREACHES  \\\n",
       "CANCER TYPE                                                                     \n",
       "ALL CANCERS                                                  895892    120183   \n",
       "ANTI-CANCER DRUG REGIMEN                                     185981      1737   \n",
       "Breast                                                       127085      9359   \n",
       "Exhibited (non-cancer) breast symptoms - cancer...           245597     59574   \n",
       "Lower Gastrointestinal                                        79376     15577   \n",
       "Lung                                                          76113      8051   \n",
       "Other                                                        201439     28237   \n",
       "RADIOTHERAPY                                                 182980      6702   \n",
       "SURGERY                                                       98463     11286   \n",
       "Skin                                                         165435     10243   \n",
       "Suspected acute leukaemia                                       535        26   \n",
       "Suspected brain/central nervous system tumours                18181       886   \n",
       "Suspected breast cancer                                      729507    131132   \n",
       "Suspected children's cancer                                   16935      1335   \n",
       "Suspected gynaecological cancer                              384813     28557   \n",
       "Suspected haematological malignancies (excludin...            39579      1869   \n",
       "Suspected head & neck cancer                                 410920     23211   \n",
       "Suspected lower gastrointestinal cancer                      720766     99931   \n",
       "Suspected lung cancer                                        102888      5424   \n",
       "Suspected other cancer                                         5326       475   \n",
       "Suspected sarcoma                                             20708      2190   \n",
       "Suspected skin cancer                                        842537     89903   \n",
       "Suspected testicular cancer                                   21113       767   \n",
       "Suspected upper gastrointestinal cancer                      330329     44066   \n",
       "Suspected urological malignancies (excluding te...           369117     24462   \n",
       "Urological                                                   103080      7466   \n",
       "Urological (Excluding Testicular)                             47409     19708   \n",
       "\n",
       "                                                      BREACH PROP  \n",
       "CANCER TYPE                                                        \n",
       "ALL CANCERS                                         485503.332214  \n",
       "ANTI-CANCER DRUG REGIMEN                              7266.709098  \n",
       "Breast                                               83668.698551  \n",
       "Exhibited (non-cancer) breast symptoms - cancer...   82425.536337  \n",
       "Lower Gastrointestinal                              259088.394608  \n",
       "Lung                                                185004.951504  \n",
       "Other                                               249879.306742  \n",
       "RADIOTHERAPY                                         15717.824903  \n",
       "SURGERY                                              48208.177788  \n",
       "Skin                                                 82314.824915  \n",
       "Suspected acute leukaemia                              923.391690  \n",
       "Suspected brain/central nervous system tumours       10609.184565  \n",
       "Suspected breast cancer                              74753.664563  \n",
       "Suspected children's cancer                          23242.343000  \n",
       "Suspected gynaecological cancer                      30649.850321  \n",
       "Suspected haematological malignancies (excludin...   16585.857430  \n",
       "Suspected head & neck cancer                         29067.366922  \n",
       "Suspected lower gastrointestinal cancer              63646.764918  \n",
       "Suspected lung cancer                                20984.413346  \n",
       "Suspected other cancer                                9207.059372  \n",
       "Suspected sarcoma                                    17511.884515  \n",
       "Suspected skin cancer                                50038.094640  \n",
       "Suspected testicular cancer                           9005.450218  \n",
       "Suspected upper gastrointestinal cancer              49298.121466  \n",
       "Suspected urological malignancies (excluding te...   28912.244595  \n",
       "Urological                                           53081.580554  \n",
       "Urological (Excluding Testicular)                   208545.575648  "
      ]
     },
     "execution_count": 9,
     "metadata": {},
     "output_type": "execute_result"
    }
   ],
   "source": [
    "data.groupby([data['CANCER TYPE']]).sum()"
   ]
  },
  {
   "cell_type": "markdown",
   "id": "cb891c00",
   "metadata": {},
   "source": [
    "Note 'ALL CANCERS' is for all confirmed cases, not suspected. We need to seperate these."
   ]
  },
  {
   "cell_type": "code",
   "execution_count": 10,
   "id": "45f5a341",
   "metadata": {},
   "outputs": [],
   "source": [
    "data1 = data[data['CANCER TYPE'].str.contains('ALL')==False]"
   ]
  },
  {
   "cell_type": "code",
   "execution_count": 11,
   "id": "e4a5c105",
   "metadata": {},
   "outputs": [
    {
     "data": {
      "text/plain": [
       "array(['2WW', '2WW Breast', '31 Days', '31 Days Sub (Drugs)',\n",
       "       '31 Days Sub (Radio)', '31 Days Sub (Surgery)', '62 Days'],\n",
       "      dtype=object)"
      ]
     },
     "execution_count": 11,
     "metadata": {},
     "output_type": "execute_result"
    }
   ],
   "source": [
    "data1['STANDARD'].unique()"
   ]
  },
  {
   "cell_type": "code",
   "execution_count": 12,
   "id": "c834ff56",
   "metadata": {},
   "outputs": [
    {
     "data": {
      "text/plain": [
       "2WW                      51210\n",
       "31 Days                  44808\n",
       "62 Days                  39910\n",
       "31 Days Sub (Drugs)       7788\n",
       "31 Days Sub (Surgery)     6699\n",
       "2WW Breast                4700\n",
       "31 Days Sub (Radio)       4093\n",
       "Name: STANDARD, dtype: int64"
      ]
     },
     "execution_count": 12,
     "metadata": {},
     "output_type": "execute_result"
    }
   ],
   "source": [
    "data1['STANDARD'].value_counts()"
   ]
  },
  {
   "cell_type": "code",
   "execution_count": 13,
   "id": "10b00015",
   "metadata": {},
   "outputs": [
    {
     "data": {
      "text/html": [
       "<div>\n",
       "<style scoped>\n",
       "    .dataframe tbody tr th:only-of-type {\n",
       "        vertical-align: middle;\n",
       "    }\n",
       "\n",
       "    .dataframe tbody tr th {\n",
       "        vertical-align: top;\n",
       "    }\n",
       "\n",
       "    .dataframe thead th {\n",
       "        text-align: right;\n",
       "    }\n",
       "</style>\n",
       "<table border=\"1\" class=\"dataframe\">\n",
       "  <thead>\n",
       "    <tr style=\"text-align: right;\">\n",
       "      <th></th>\n",
       "      <th>STANDARD</th>\n",
       "      <th>TOTAL TREATED</th>\n",
       "      <th>WITHIN STANDARD</th>\n",
       "      <th>BREACHES</th>\n",
       "      <th>BREACH PROP</th>\n",
       "    </tr>\n",
       "  </thead>\n",
       "  <tbody>\n",
       "    <tr>\n",
       "      <th>0</th>\n",
       "      <td>2WW</td>\n",
       "      <td>4467488</td>\n",
       "      <td>4013254</td>\n",
       "      <td>454234</td>\n",
       "      <td>434435.691562</td>\n",
       "    </tr>\n",
       "    <tr>\n",
       "      <th>1</th>\n",
       "      <td>2WW Breast</td>\n",
       "      <td>305171</td>\n",
       "      <td>245597</td>\n",
       "      <td>59574</td>\n",
       "      <td>82425.536337</td>\n",
       "    </tr>\n",
       "    <tr>\n",
       "      <th>2</th>\n",
       "      <td>31 Days</td>\n",
       "      <td>592141</td>\n",
       "      <td>565625</td>\n",
       "      <td>26516</td>\n",
       "      <td>164747.621070</td>\n",
       "    </tr>\n",
       "    <tr>\n",
       "      <th>3</th>\n",
       "      <td>31 Days Sub (Drugs)</td>\n",
       "      <td>187718</td>\n",
       "      <td>185981</td>\n",
       "      <td>1737</td>\n",
       "      <td>7266.709098</td>\n",
       "    </tr>\n",
       "    <tr>\n",
       "      <th>4</th>\n",
       "      <td>31 Days Sub (Radio)</td>\n",
       "      <td>189682</td>\n",
       "      <td>182980</td>\n",
       "      <td>6702</td>\n",
       "      <td>15717.824903</td>\n",
       "    </tr>\n",
       "    <tr>\n",
       "      <th>5</th>\n",
       "      <td>31 Days Sub (Surgery)</td>\n",
       "      <td>109749</td>\n",
       "      <td>98463</td>\n",
       "      <td>11286</td>\n",
       "      <td>48208.177788</td>\n",
       "    </tr>\n",
       "    <tr>\n",
       "      <th>6</th>\n",
       "      <td>62 Days</td>\n",
       "      <td>308878</td>\n",
       "      <td>234312</td>\n",
       "      <td>72125</td>\n",
       "      <td>956835.711452</td>\n",
       "    </tr>\n",
       "  </tbody>\n",
       "</table>\n",
       "</div>"
      ],
      "text/plain": [
       "                STANDARD  TOTAL TREATED  WITHIN STANDARD  BREACHES  \\\n",
       "0                    2WW        4467488          4013254    454234   \n",
       "1             2WW Breast         305171           245597     59574   \n",
       "2                31 Days         592141           565625     26516   \n",
       "3    31 Days Sub (Drugs)         187718           185981      1737   \n",
       "4    31 Days Sub (Radio)         189682           182980      6702   \n",
       "5  31 Days Sub (Surgery)         109749            98463     11286   \n",
       "6                62 Days         308878           234312     72125   \n",
       "\n",
       "     BREACH PROP  \n",
       "0  434435.691562  \n",
       "1   82425.536337  \n",
       "2  164747.621070  \n",
       "3    7266.709098  \n",
       "4   15717.824903  \n",
       "5   48208.177788  \n",
       "6  956835.711452  "
      ]
     },
     "execution_count": 13,
     "metadata": {},
     "output_type": "execute_result"
    }
   ],
   "source": [
    "data1.groupby([data1['STANDARD']]).sum().reset_index()"
   ]
  },
  {
   "cell_type": "markdown",
   "id": "d0f8fdee",
   "metadata": {},
   "source": [
    "2WW - An operational standard for patients to be seen within two weeks by a specialist following an urgent GP referral for when cancer is suspected. \n",
    "2WW Breast - two week wait for symptomatic breast patients for when cancer is not intially suspsected. Operational standard(OS) = 93%.\n",
    "31 Days is 31 day wait for first treatment following decision to treat new primary cancer. OS = 96&\n",
    "31 Days Sub is 31 day wait for subsequent treatment - Drug (OS = 98%), Radiotherapy (OS = 94%) or Surgery (OS = 94%)\n",
    "62 Days is 62 day wait for first treatment following urgent GP referral for new primary cancer (OS = 85%)\n",
    "ALL CANCERS included:\n",
    "62 Days (Screening) is 62 day wait following referral from cancer screening service\n",
    "62 Days (Consultant) and (Upgrade) mean 62 day wait following consultant decision to upgrade the case priority. They mean the same thing however are referred to as 'Upgrade' in 2020-2021 and 'Consultant' in 2019-2020\n",
    "However we have removed these for now"
   ]
  },
  {
   "cell_type": "markdown",
   "id": "37ad75a3",
   "metadata": {},
   "source": [
    "Suspected cancer cases appear to make up the majority of the data so lets focus on this.\n",
    "We'll first look at the distribution of cases and operation standards over the two year period (Apr 2019 - Apr 2021)."
   ]
  },
  {
   "cell_type": "code",
   "execution_count": 14,
   "id": "9cb7749a",
   "metadata": {
    "scrolled": true
   },
   "outputs": [
    {
     "data": {
      "text/html": [
       "<div>\n",
       "<style scoped>\n",
       "    .dataframe tbody tr th:only-of-type {\n",
       "        vertical-align: middle;\n",
       "    }\n",
       "\n",
       "    .dataframe tbody tr th {\n",
       "        vertical-align: top;\n",
       "    }\n",
       "\n",
       "    .dataframe thead th {\n",
       "        text-align: right;\n",
       "    }\n",
       "</style>\n",
       "<table border=\"1\" class=\"dataframe\">\n",
       "  <thead>\n",
       "    <tr style=\"text-align: right;\">\n",
       "      <th></th>\n",
       "      <th>PERIOD</th>\n",
       "      <th>YEAR</th>\n",
       "      <th>MONTH</th>\n",
       "      <th>STANDARD</th>\n",
       "      <th>ORG CODE</th>\n",
       "      <th>CARE SETTING</th>\n",
       "      <th>CANCER TYPE</th>\n",
       "      <th>TOTAL TREATED</th>\n",
       "      <th>WITHIN STANDARD</th>\n",
       "      <th>BREACHES</th>\n",
       "      <th>BREACH PROP</th>\n",
       "    </tr>\n",
       "  </thead>\n",
       "  <tbody>\n",
       "    <tr>\n",
       "      <th>0</th>\n",
       "      <td>2019-04-01</td>\n",
       "      <td>2019-20</td>\n",
       "      <td>APR</td>\n",
       "      <td>2WW</td>\n",
       "      <td>NCN</td>\n",
       "      <td>Unknown</td>\n",
       "      <td>Suspected skin cancer</td>\n",
       "      <td>1</td>\n",
       "      <td>1</td>\n",
       "      <td>0</td>\n",
       "      <td>0.000000</td>\n",
       "    </tr>\n",
       "    <tr>\n",
       "      <th>1</th>\n",
       "      <td>2019-04-01</td>\n",
       "      <td>2019-20</td>\n",
       "      <td>APR</td>\n",
       "      <td>2WW</td>\n",
       "      <td>R1F</td>\n",
       "      <td>Unknown</td>\n",
       "      <td>Suspected lower gastrointestinal cancer</td>\n",
       "      <td>1</td>\n",
       "      <td>1</td>\n",
       "      <td>0</td>\n",
       "      <td>0.000000</td>\n",
       "    </tr>\n",
       "    <tr>\n",
       "      <th>2</th>\n",
       "      <td>2019-04-01</td>\n",
       "      <td>2019-20</td>\n",
       "      <td>APR</td>\n",
       "      <td>2WW</td>\n",
       "      <td>R1H</td>\n",
       "      <td>Unknown</td>\n",
       "      <td>Suspected brain/central nervous system tumours</td>\n",
       "      <td>7</td>\n",
       "      <td>7</td>\n",
       "      <td>0</td>\n",
       "      <td>0.000000</td>\n",
       "    </tr>\n",
       "    <tr>\n",
       "      <th>3</th>\n",
       "      <td>2019-04-01</td>\n",
       "      <td>2019-20</td>\n",
       "      <td>APR</td>\n",
       "      <td>2WW</td>\n",
       "      <td>R1H</td>\n",
       "      <td>Unknown</td>\n",
       "      <td>Suspected breast cancer</td>\n",
       "      <td>645</td>\n",
       "      <td>642</td>\n",
       "      <td>3</td>\n",
       "      <td>0.465116</td>\n",
       "    </tr>\n",
       "    <tr>\n",
       "      <th>4</th>\n",
       "      <td>2019-04-01</td>\n",
       "      <td>2019-20</td>\n",
       "      <td>APR</td>\n",
       "      <td>2WW</td>\n",
       "      <td>R1H</td>\n",
       "      <td>Unknown</td>\n",
       "      <td>Suspected children's cancer</td>\n",
       "      <td>20</td>\n",
       "      <td>20</td>\n",
       "      <td>0</td>\n",
       "      <td>0.000000</td>\n",
       "    </tr>\n",
       "  </tbody>\n",
       "</table>\n",
       "</div>"
      ],
      "text/plain": [
       "      PERIOD     YEAR MONTH STANDARD ORG CODE CARE SETTING  \\\n",
       "0 2019-04-01  2019-20   APR      2WW      NCN      Unknown   \n",
       "1 2019-04-01  2019-20   APR      2WW      R1F      Unknown   \n",
       "2 2019-04-01  2019-20   APR      2WW      R1H      Unknown   \n",
       "3 2019-04-01  2019-20   APR      2WW      R1H      Unknown   \n",
       "4 2019-04-01  2019-20   APR      2WW      R1H      Unknown   \n",
       "\n",
       "                                      CANCER TYPE  TOTAL TREATED  \\\n",
       "0                           Suspected skin cancer              1   \n",
       "1         Suspected lower gastrointestinal cancer              1   \n",
       "2  Suspected brain/central nervous system tumours              7   \n",
       "3                         Suspected breast cancer            645   \n",
       "4                     Suspected children's cancer             20   \n",
       "\n",
       "   WITHIN STANDARD  BREACHES  BREACH PROP  \n",
       "0                1         0     0.000000  \n",
       "1                1         0     0.000000  \n",
       "2                7         0     0.000000  \n",
       "3              642         3     0.465116  \n",
       "4               20         0     0.000000  "
      ]
     },
     "execution_count": 14,
     "metadata": {},
     "output_type": "execute_result"
    }
   ],
   "source": [
    "suspect = data[data['CANCER TYPE'].str.contains('Suspected')]\n",
    "suspect.head()"
   ]
  },
  {
   "cell_type": "code",
   "execution_count": 15,
   "id": "b4eaad1d",
   "metadata": {},
   "outputs": [
    {
     "data": {
      "text/html": [
       "<div>\n",
       "<style scoped>\n",
       "    .dataframe tbody tr th:only-of-type {\n",
       "        vertical-align: middle;\n",
       "    }\n",
       "\n",
       "    .dataframe tbody tr th {\n",
       "        vertical-align: top;\n",
       "    }\n",
       "\n",
       "    .dataframe thead th {\n",
       "        text-align: right;\n",
       "    }\n",
       "</style>\n",
       "<table border=\"1\" class=\"dataframe\">\n",
       "  <thead>\n",
       "    <tr style=\"text-align: right;\">\n",
       "      <th></th>\n",
       "      <th>PERIOD</th>\n",
       "      <th>YEAR</th>\n",
       "      <th>MONTH</th>\n",
       "      <th>STANDARD</th>\n",
       "      <th>ORG CODE</th>\n",
       "      <th>CARE SETTING</th>\n",
       "      <th>CANCER TYPE</th>\n",
       "      <th>TOTAL TREATED</th>\n",
       "      <th>WITHIN STANDARD</th>\n",
       "      <th>BREACHES</th>\n",
       "      <th>BREACH PROP</th>\n",
       "    </tr>\n",
       "  </thead>\n",
       "  <tbody>\n",
       "    <tr>\n",
       "      <th>0</th>\n",
       "      <td>2019-04-01</td>\n",
       "      <td>2019-20</td>\n",
       "      <td>APR</td>\n",
       "      <td>2WW</td>\n",
       "      <td>NCN</td>\n",
       "      <td>Unknown</td>\n",
       "      <td>Suspected skin cancer</td>\n",
       "      <td>1</td>\n",
       "      <td>1</td>\n",
       "      <td>0</td>\n",
       "      <td>0.000000</td>\n",
       "    </tr>\n",
       "    <tr>\n",
       "      <th>1</th>\n",
       "      <td>2019-04-01</td>\n",
       "      <td>2019-20</td>\n",
       "      <td>APR</td>\n",
       "      <td>2WW</td>\n",
       "      <td>R1F</td>\n",
       "      <td>Unknown</td>\n",
       "      <td>Suspected lower gastrointestinal cancer</td>\n",
       "      <td>1</td>\n",
       "      <td>1</td>\n",
       "      <td>0</td>\n",
       "      <td>0.000000</td>\n",
       "    </tr>\n",
       "    <tr>\n",
       "      <th>2</th>\n",
       "      <td>2019-04-01</td>\n",
       "      <td>2019-20</td>\n",
       "      <td>APR</td>\n",
       "      <td>2WW</td>\n",
       "      <td>R1H</td>\n",
       "      <td>Unknown</td>\n",
       "      <td>Suspected brain/central nervous system tumours</td>\n",
       "      <td>7</td>\n",
       "      <td>7</td>\n",
       "      <td>0</td>\n",
       "      <td>0.000000</td>\n",
       "    </tr>\n",
       "    <tr>\n",
       "      <th>3</th>\n",
       "      <td>2019-04-01</td>\n",
       "      <td>2019-20</td>\n",
       "      <td>APR</td>\n",
       "      <td>2WW</td>\n",
       "      <td>R1H</td>\n",
       "      <td>Unknown</td>\n",
       "      <td>Suspected breast cancer</td>\n",
       "      <td>645</td>\n",
       "      <td>642</td>\n",
       "      <td>3</td>\n",
       "      <td>0.465116</td>\n",
       "    </tr>\n",
       "    <tr>\n",
       "      <th>4</th>\n",
       "      <td>2019-04-01</td>\n",
       "      <td>2019-20</td>\n",
       "      <td>APR</td>\n",
       "      <td>2WW</td>\n",
       "      <td>R1H</td>\n",
       "      <td>Unknown</td>\n",
       "      <td>Suspected children's cancer</td>\n",
       "      <td>20</td>\n",
       "      <td>20</td>\n",
       "      <td>0</td>\n",
       "      <td>0.000000</td>\n",
       "    </tr>\n",
       "  </tbody>\n",
       "</table>\n",
       "</div>"
      ],
      "text/plain": [
       "      PERIOD     YEAR MONTH STANDARD ORG CODE CARE SETTING  \\\n",
       "0 2019-04-01  2019-20   APR      2WW      NCN      Unknown   \n",
       "1 2019-04-01  2019-20   APR      2WW      R1F      Unknown   \n",
       "2 2019-04-01  2019-20   APR      2WW      R1H      Unknown   \n",
       "3 2019-04-01  2019-20   APR      2WW      R1H      Unknown   \n",
       "4 2019-04-01  2019-20   APR      2WW      R1H      Unknown   \n",
       "\n",
       "                                      CANCER TYPE  TOTAL TREATED  \\\n",
       "0                           Suspected skin cancer              1   \n",
       "1         Suspected lower gastrointestinal cancer              1   \n",
       "2  Suspected brain/central nervous system tumours              7   \n",
       "3                         Suspected breast cancer            645   \n",
       "4                     Suspected children's cancer             20   \n",
       "\n",
       "   WITHIN STANDARD  BREACHES  BREACH PROP  \n",
       "0                1         0     0.000000  \n",
       "1                1         0     0.000000  \n",
       "2                7         0     0.000000  \n",
       "3              642         3     0.465116  \n",
       "4               20         0     0.000000  "
      ]
     },
     "execution_count": 15,
     "metadata": {},
     "output_type": "execute_result"
    }
   ],
   "source": [
    "suspect2019 = suspect[suspect['YEAR'].str.contains('2019-20')]\n",
    "suspect2019.head()"
   ]
  },
  {
   "cell_type": "code",
   "execution_count": 16,
   "id": "90f5f874",
   "metadata": {
    "scrolled": true
   },
   "outputs": [
    {
     "name": "stdout",
     "output_type": "stream",
     "text": [
      "TOTAL TREATED      2386815\n",
      "WITHIN STANDARD    2168130\n",
      "BREACHES            218685\n",
      "dtype: int64\n"
     ]
    }
   ],
   "source": [
    "print(suspect2019[['TOTAL TREATED', 'WITHIN STANDARD', 'BREACHES',]].sum())"
   ]
  },
  {
   "cell_type": "code",
   "execution_count": 17,
   "id": "40e08004",
   "metadata": {},
   "outputs": [
    {
     "data": {
      "text/plain": [
       "9.162209890586409"
      ]
     },
     "execution_count": 17,
     "metadata": {},
     "output_type": "execute_result"
    }
   ],
   "source": [
    "total_sum = suspect2019['TOTAL TREATED'].sum()\n",
    "breaches_sum = suspect2019['BREACHES'].sum()\n",
    "(breaches_sum / total_sum) * 100"
   ]
  },
  {
   "cell_type": "markdown",
   "id": "df2d2a5e",
   "metadata": {},
   "source": [
    "Percentage of breaches for the year 2019-2020 is 9.2%. 90.8 of patients were seen within the 14 day referral period."
   ]
  },
  {
   "cell_type": "code",
   "execution_count": 18,
   "id": "968bc3a1",
   "metadata": {},
   "outputs": [
    {
     "data": {
      "text/html": [
       "<div>\n",
       "<style scoped>\n",
       "    .dataframe tbody tr th:only-of-type {\n",
       "        vertical-align: middle;\n",
       "    }\n",
       "\n",
       "    .dataframe tbody tr th {\n",
       "        vertical-align: top;\n",
       "    }\n",
       "\n",
       "    .dataframe thead th {\n",
       "        text-align: right;\n",
       "    }\n",
       "</style>\n",
       "<table border=\"1\" class=\"dataframe\">\n",
       "  <thead>\n",
       "    <tr style=\"text-align: right;\">\n",
       "      <th></th>\n",
       "      <th>PERIOD</th>\n",
       "      <th>YEAR</th>\n",
       "      <th>MONTH</th>\n",
       "      <th>STANDARD</th>\n",
       "      <th>ORG CODE</th>\n",
       "      <th>CARE SETTING</th>\n",
       "      <th>CANCER TYPE</th>\n",
       "      <th>TOTAL TREATED</th>\n",
       "      <th>WITHIN STANDARD</th>\n",
       "      <th>BREACHES</th>\n",
       "      <th>BREACH PROP</th>\n",
       "    </tr>\n",
       "  </thead>\n",
       "  <tbody>\n",
       "    <tr>\n",
       "      <th>0</th>\n",
       "      <td>2020-04-01</td>\n",
       "      <td>2020-21</td>\n",
       "      <td>APR</td>\n",
       "      <td>2WW</td>\n",
       "      <td>AQK</td>\n",
       "      <td>Unknown</td>\n",
       "      <td>Suspected skin cancer</td>\n",
       "      <td>42</td>\n",
       "      <td>41</td>\n",
       "      <td>1</td>\n",
       "      <td>2.380952</td>\n",
       "    </tr>\n",
       "    <tr>\n",
       "      <th>1</th>\n",
       "      <td>2020-04-01</td>\n",
       "      <td>2020-21</td>\n",
       "      <td>APR</td>\n",
       "      <td>2WW</td>\n",
       "      <td>NCN</td>\n",
       "      <td>Unknown</td>\n",
       "      <td>Suspected skin cancer</td>\n",
       "      <td>108</td>\n",
       "      <td>87</td>\n",
       "      <td>21</td>\n",
       "      <td>19.444444</td>\n",
       "    </tr>\n",
       "    <tr>\n",
       "      <th>2</th>\n",
       "      <td>2020-04-01</td>\n",
       "      <td>2020-21</td>\n",
       "      <td>APR</td>\n",
       "      <td>2WW</td>\n",
       "      <td>NQT</td>\n",
       "      <td>Unknown</td>\n",
       "      <td>Suspected skin cancer</td>\n",
       "      <td>38</td>\n",
       "      <td>37</td>\n",
       "      <td>1</td>\n",
       "      <td>2.631579</td>\n",
       "    </tr>\n",
       "    <tr>\n",
       "      <th>3</th>\n",
       "      <td>2020-04-01</td>\n",
       "      <td>2020-21</td>\n",
       "      <td>APR</td>\n",
       "      <td>2WW</td>\n",
       "      <td>NV1</td>\n",
       "      <td>Unknown</td>\n",
       "      <td>Suspected lower gastrointestinal cancer</td>\n",
       "      <td>44</td>\n",
       "      <td>37</td>\n",
       "      <td>7</td>\n",
       "      <td>15.909091</td>\n",
       "    </tr>\n",
       "    <tr>\n",
       "      <th>4</th>\n",
       "      <td>2020-04-01</td>\n",
       "      <td>2020-21</td>\n",
       "      <td>APR</td>\n",
       "      <td>2WW</td>\n",
       "      <td>NV1</td>\n",
       "      <td>Unknown</td>\n",
       "      <td>Suspected upper gastrointestinal cancer</td>\n",
       "      <td>23</td>\n",
       "      <td>12</td>\n",
       "      <td>11</td>\n",
       "      <td>47.826087</td>\n",
       "    </tr>\n",
       "  </tbody>\n",
       "</table>\n",
       "</div>"
      ],
      "text/plain": [
       "      PERIOD     YEAR MONTH STANDARD ORG CODE CARE SETTING  \\\n",
       "0 2020-04-01  2020-21   APR      2WW      AQK      Unknown   \n",
       "1 2020-04-01  2020-21   APR      2WW      NCN      Unknown   \n",
       "2 2020-04-01  2020-21   APR      2WW      NQT      Unknown   \n",
       "3 2020-04-01  2020-21   APR      2WW      NV1      Unknown   \n",
       "4 2020-04-01  2020-21   APR      2WW      NV1      Unknown   \n",
       "\n",
       "                               CANCER TYPE  TOTAL TREATED  WITHIN STANDARD  \\\n",
       "0                    Suspected skin cancer             42               41   \n",
       "1                    Suspected skin cancer            108               87   \n",
       "2                    Suspected skin cancer             38               37   \n",
       "3  Suspected lower gastrointestinal cancer             44               37   \n",
       "4  Suspected upper gastrointestinal cancer             23               12   \n",
       "\n",
       "   BREACHES  BREACH PROP  \n",
       "0         1     2.380952  \n",
       "1        21    19.444444  \n",
       "2         1     2.631579  \n",
       "3         7    15.909091  \n",
       "4        11    47.826087  "
      ]
     },
     "execution_count": 18,
     "metadata": {},
     "output_type": "execute_result"
    }
   ],
   "source": [
    "suspect2020 = suspect[suspect['YEAR'].str.contains('2020-21')]\n",
    "suspect2020.head()"
   ]
  },
  {
   "cell_type": "code",
   "execution_count": 19,
   "id": "2b24615d",
   "metadata": {},
   "outputs": [
    {
     "name": "stdout",
     "output_type": "stream",
     "text": [
      "TOTAL TREATED      2080673\n",
      "WITHIN STANDARD    1845124\n",
      "BREACHES            235549\n",
      "dtype: int64\n"
     ]
    }
   ],
   "source": [
    "print(suspect2020[['TOTAL TREATED','WITHIN STANDARD','BREACHES',]].sum())"
   ]
  },
  {
   "cell_type": "code",
   "execution_count": 20,
   "id": "d4a62319",
   "metadata": {},
   "outputs": [
    {
     "data": {
      "text/plain": [
       "11.320808219263672"
      ]
     },
     "execution_count": 20,
     "metadata": {},
     "output_type": "execute_result"
    }
   ],
   "source": [
    "total_sum = suspect2020['TOTAL TREATED'].sum()\n",
    "breaches_sum = suspect2020['BREACHES'].sum()\n",
    "(breaches_sum / total_sum) * 100\n"
   ]
  },
  {
   "cell_type": "markdown",
   "id": "7d832c0f",
   "metadata": {},
   "source": [
    "Percentage of breaches for the year 2020-2021 is 11.3%. 88.7% of patients were seen within the 14 day referral period.\n",
    "The 2020-2021 time period is worse for meeting the operational standard for treatment than the previous year (90.8% vs 88.7%)\n",
    "Let's break this down month-by-month over the two years."
   ]
  },
  {
   "cell_type": "code",
   "execution_count": 21,
   "id": "686aecf5",
   "metadata": {},
   "outputs": [
    {
     "name": "stdout",
     "output_type": "stream",
     "text": [
      "Index(['PERIOD', 'YEAR', 'MONTH', 'STANDARD', 'ORG CODE', 'CARE SETTING',\n",
      "       'CANCER TYPE', 'TOTAL TREATED', 'WITHIN STANDARD', 'BREACHES',\n",
      "       'BREACH PROP'],\n",
      "      dtype='object')\n"
     ]
    }
   ],
   "source": [
    "print(suspect.columns)"
   ]
  },
  {
   "cell_type": "code",
   "execution_count": 22,
   "id": "cd068dd4",
   "metadata": {},
   "outputs": [
    {
     "name": "stdout",
     "output_type": "stream",
     "text": [
      "          PERIOD  TOTAL TREATED  WITHIN STANDARD  BREACHES\n",
      "0     2019-04-01              1                1         0\n",
      "1     2019-04-01              1                1         0\n",
      "2     2019-04-01              7                7         0\n",
      "3     2019-04-01            645              642         3\n",
      "4     2019-04-01             20               20         0\n",
      "...          ...            ...              ...       ...\n",
      "67437 2021-03-01             41               40         1\n",
      "67438 2021-03-01            442              426        16\n",
      "67439 2021-03-01              2                2         0\n",
      "67440 2021-03-01            208              203         5\n",
      "67441 2021-03-01            182              181         1\n",
      "\n",
      "[51210 rows x 4 columns]\n"
     ]
    }
   ],
   "source": [
    "time_line = suspect.drop(['YEAR', 'MONTH', 'STANDARD', 'ORG CODE', 'CARE SETTING',\n",
    "       'CANCER TYPE', 'BREACH PROP'], axis = 1)\n",
    "print(time_line)"
   ]
  },
  {
   "cell_type": "code",
   "execution_count": 23,
   "id": "df18d79e",
   "metadata": {},
   "outputs": [
    {
     "data": {
      "text/html": [
       "<div>\n",
       "<style scoped>\n",
       "    .dataframe tbody tr th:only-of-type {\n",
       "        vertical-align: middle;\n",
       "    }\n",
       "\n",
       "    .dataframe tbody tr th {\n",
       "        vertical-align: top;\n",
       "    }\n",
       "\n",
       "    .dataframe thead th {\n",
       "        text-align: right;\n",
       "    }\n",
       "</style>\n",
       "<table border=\"1\" class=\"dataframe\">\n",
       "  <thead>\n",
       "    <tr style=\"text-align: right;\">\n",
       "      <th></th>\n",
       "      <th>TOTAL TREATED</th>\n",
       "      <th>WITHIN STANDARD</th>\n",
       "      <th>BREACHES</th>\n",
       "    </tr>\n",
       "    <tr>\n",
       "      <th>PERIOD</th>\n",
       "      <th></th>\n",
       "      <th></th>\n",
       "      <th></th>\n",
       "    </tr>\n",
       "  </thead>\n",
       "  <tbody>\n",
       "    <tr>\n",
       "      <th>2019-04-01</th>\n",
       "      <td>199217</td>\n",
       "      <td>178802</td>\n",
       "      <td>20415</td>\n",
       "    </tr>\n",
       "    <tr>\n",
       "      <th>2019-05-01</th>\n",
       "      <td>200796</td>\n",
       "      <td>182320</td>\n",
       "      <td>18476</td>\n",
       "    </tr>\n",
       "    <tr>\n",
       "      <th>2019-06-01</th>\n",
       "      <td>194047</td>\n",
       "      <td>174798</td>\n",
       "      <td>19249</td>\n",
       "    </tr>\n",
       "    <tr>\n",
       "      <th>2019-07-01</th>\n",
       "      <td>221805</td>\n",
       "      <td>201659</td>\n",
       "      <td>20146</td>\n",
       "    </tr>\n",
       "    <tr>\n",
       "      <th>2019-08-01</th>\n",
       "      <td>200317</td>\n",
       "      <td>179096</td>\n",
       "      <td>21221</td>\n",
       "    </tr>\n",
       "  </tbody>\n",
       "</table>\n",
       "</div>"
      ],
      "text/plain": [
       "            TOTAL TREATED  WITHIN STANDARD  BREACHES\n",
       "PERIOD                                              \n",
       "2019-04-01         199217           178802     20415\n",
       "2019-05-01         200796           182320     18476\n",
       "2019-06-01         194047           174798     19249\n",
       "2019-07-01         221805           201659     20146\n",
       "2019-08-01         200317           179096     21221"
      ]
     },
     "execution_count": 23,
     "metadata": {},
     "output_type": "execute_result"
    }
   ],
   "source": [
    "time_line1 = time_line.groupby([time_line['PERIOD']]).sum()\n",
    "time_line1.head()"
   ]
  },
  {
   "cell_type": "code",
   "execution_count": 24,
   "id": "d361707f",
   "metadata": {},
   "outputs": [
    {
     "data": {
      "text/plain": [
       "<AxesSubplot:xlabel='PERIOD', ylabel='TOTAL TREATED'>"
      ]
     },
     "execution_count": 24,
     "metadata": {},
     "output_type": "execute_result"
    },
    {
     "data": {
      "image/png": "[encoded data removed]",
      "text/plain": [
       "<Figure size 1008x432 with 1 Axes>"
      ]
     },
     "metadata": {
      "needs_background": "light"
     },
     "output_type": "display_data"
    }
   ],
   "source": [
    "import matplotlib.pyplot as plt\n",
    "import seaborn as sns\n",
    "\n",
    "plt.figure(figsize=(14,6))\n",
    "sns.lineplot(x='PERIOD', y='TOTAL TREATED', data=time_line1)"
   ]
  },
  {
   "cell_type": "markdown",
   "id": "cbfef6e8",
   "metadata": {},
   "source": [
    "We can clearly see the extreme drop in total treated cases when COVID-19 first struck in Mar/Apr 2020, which coincided with many NHS services being halted or severely reduced. \n",
    "A quick recovery followed, with rates improving up to similar rates pre-COVID by Jul 2020. \n",
    "Rates generally pretty stable since. Decrease shown Late 2020 (Nov 2020 was when country went into 'lockdown' again).\n",
    "Recovery April 2021 when services resumed to a normal level. Businesses and schools opened again.\n"
   ]
  },
  {
   "cell_type": "code",
   "execution_count": 25,
   "id": "e1251862",
   "metadata": {
    "scrolled": false
   },
   "outputs": [
    {
     "data": {
      "text/plain": [
       "Text(0, 0.5, 'No. of cases')"
      ]
     },
     "execution_count": 25,
     "metadata": {},
     "output_type": "execute_result"
    },
    {
     "data": {
      "image/png": "[encoded data removed]",
      "text/plain": [
       "<Figure size 1296x432 with 1 Axes>"
      ]
     },
     "metadata": {
      "needs_background": "light"
     },
     "output_type": "display_data"
    }
   ],
   "source": [
    "plt.figure(figsize=(18,6))\n",
    "sns.lineplot(data=time_line1)\n",
    "plt.title('Suspected cancer cases referred for treatment')\n",
    "plt.xlabel('Time period')\n",
    "plt.ylabel('No. of cases')"
   ]
  },
  {
   "cell_type": "markdown",
   "id": "29285357",
   "metadata": {},
   "source": [
    "By plotting all three measures, we can see both total treated and within standard followed roughly the same trajectory, showing sharp decrease and increase at same time points.\n",
    "Breaches maintained a fairly steady rate throughout despite a reduction or halt in services.\n",
    "Let's look at this further to confirm."
   ]
  },
  {
   "cell_type": "code",
   "execution_count": 26,
   "id": "32e65361",
   "metadata": {},
   "outputs": [
    {
     "name": "stdout",
     "output_type": "stream",
     "text": [
      "            TOTAL TREATED  WITHIN STANDARD  BREACHES  BREACH PROP\n",
      "PERIOD                                                           \n",
      "2019-04-01         199217           178802     20415    10.247619\n",
      "2019-05-01         200796           182320     18476     9.201379\n",
      "2019-06-01         194047           174798     19249     9.919762\n",
      "2019-07-01         221805           201659     20146     9.082753\n",
      "2019-08-01         200317           179096     21221    10.593709\n",
      "2019-09-01         195196           175875     19321     9.898256\n",
      "2019-10-01         220304           201292     19012     8.629893\n",
      "2019-11-01         201498           184036     17462     8.666091\n",
      "2019-12-01         187811           172476     15335     8.165123\n",
      "2020-01-01         191852           172817     19035     9.921710\n",
      "2020-02-01         190369           176304     14065     7.388283\n",
      "2020-03-01         183603           168655     14948     8.141479\n",
      "2020-04-01          80031            70494      9537    11.916632\n",
      "2020-05-01         106741           100555      6186     5.795336\n",
      "2020-06-01         153543           142014     11529     7.508646\n",
      "2020-07-01         179274           162034     17240     9.616565\n",
      "2020-08-01         170036           149035     21001    12.350914\n",
      "2020-09-01         201013           173149     27864    13.861790\n",
      "2020-10-01         203904           179182     24722    12.124333\n",
      "2020-11-01         205520           178782     26738    13.009926\n",
      "2020-12-01         202471           177390     25081    12.387453\n",
      "2021-01-01         171242           142810     28432    16.603403\n",
      "2021-02-01         174762           157854     16908     9.674872\n",
      "2021-03-01         232136           211825     20311     8.749612\n"
     ]
    }
   ],
   "source": [
    "time_line1['BREACH PROP'] = (time_line1['BREACHES'] / time_line1['TOTAL TREATED']) * 100\n",
    "print(time_line1)"
   ]
  },
  {
   "cell_type": "code",
   "execution_count": 27,
   "id": "6b24b16c",
   "metadata": {},
   "outputs": [
    {
     "data": {
      "text/plain": [
       "TOTAL TREATED      171242.000000\n",
       "WITHIN STANDARD    142810.000000\n",
       "BREACHES            28432.000000\n",
       "BREACH PROP            16.603403\n",
       "Name: 2021-01-01 00:00:00, dtype: float64"
      ]
     },
     "execution_count": 27,
     "metadata": {},
     "output_type": "execute_result"
    }
   ],
   "source": [
    "time_line1.loc[time_line1['BREACH PROP'].idxmax()]"
   ]
  },
  {
   "cell_type": "code",
   "execution_count": 28,
   "id": "2cee80aa",
   "metadata": {},
   "outputs": [
    {
     "data": {
      "text/plain": [
       "TOTAL TREATED      106741.000000\n",
       "WITHIN STANDARD    100555.000000\n",
       "BREACHES             6186.000000\n",
       "BREACH PROP             5.795336\n",
       "Name: 2020-05-01 00:00:00, dtype: float64"
      ]
     },
     "execution_count": 28,
     "metadata": {},
     "output_type": "execute_result"
    }
   ],
   "source": [
    "time_line1.loc[time_line1['BREACH PROP'].idxmin()]"
   ]
  },
  {
   "cell_type": "markdown",
   "id": "5a9d4d98",
   "metadata": {},
   "source": [
    "Percentage of breaches varies in the two year period from 5.8% to 16.6%. Let's plot this."
   ]
  },
  {
   "cell_type": "code",
   "execution_count": 29,
   "id": "ab0402c9",
   "metadata": {},
   "outputs": [
    {
     "data": {
      "text/plain": [
       "Text(0, 0.5, 'Percentage of cases')"
      ]
     },
     "execution_count": 29,
     "metadata": {},
     "output_type": "execute_result"
    },
    {
     "data": {
      "image/png": "[encoded data removed]",
      "text/plain": [
       "<Figure size 1008x432 with 1 Axes>"
      ]
     },
     "metadata": {
      "needs_background": "light"
     },
     "output_type": "display_data"
    }
   ],
   "source": [
    "plt.figure(figsize=(14,6))\n",
    "sns.lineplot(x='PERIOD', y='BREACH PROP', data=time_line1)\n",
    "plt.title('All suspected cancer cases not meeting the 14 day referral')\n",
    "plt.xlabel('Time period')\n",
    "plt.ylabel('Percentage of cases')"
   ]
  },
  {
   "cell_type": "markdown",
   "id": "ec03579e",
   "metadata": {},
   "source": [
    "There appears to be fairly significant fluctuation across timepoints.\n",
    "Interestingly, the lowest percentage of breaches in a month was very soon after COVID struck, during lockdown no.1 (May 2020, 5.8%).\n",
    "The highest percetage of breaches was Jan 2021, during lockdown no.2, with 16.6%. Meaning 83.4% of suspected cancer cases were \n",
    "seen within the 14 day standard. This falls also 10% short of the operational standard for the NHS which is 93%.\n",
    "We can also see illustrated that the 2020-2021 period saw a decrease in the number of cases reaching the operational standard, as mentioned earlier.\n",
    "(90.8% vs 88.7%)"
   ]
  },
  {
   "cell_type": "markdown",
   "id": "e77b8a68",
   "metadata": {},
   "source": [
    "Lets look at the seperate cases involving symptomatic patients where breast cancer was not initally suspected."
   ]
  },
  {
   "cell_type": "code",
   "execution_count": 30,
   "id": "cc0657ef",
   "metadata": {},
   "outputs": [
    {
     "data": {
      "text/html": [
       "<div>\n",
       "<style scoped>\n",
       "    .dataframe tbody tr th:only-of-type {\n",
       "        vertical-align: middle;\n",
       "    }\n",
       "\n",
       "    .dataframe tbody tr th {\n",
       "        vertical-align: top;\n",
       "    }\n",
       "\n",
       "    .dataframe thead th {\n",
       "        text-align: right;\n",
       "    }\n",
       "</style>\n",
       "<table border=\"1\" class=\"dataframe\">\n",
       "  <thead>\n",
       "    <tr style=\"text-align: right;\">\n",
       "      <th></th>\n",
       "      <th>PERIOD</th>\n",
       "      <th>YEAR</th>\n",
       "      <th>MONTH</th>\n",
       "      <th>STANDARD</th>\n",
       "      <th>ORG CODE</th>\n",
       "      <th>CARE SETTING</th>\n",
       "      <th>CANCER TYPE</th>\n",
       "      <th>TOTAL TREATED</th>\n",
       "      <th>WITHIN STANDARD</th>\n",
       "      <th>BREACHES</th>\n",
       "      <th>BREACH PROP</th>\n",
       "    </tr>\n",
       "  </thead>\n",
       "  <tbody>\n",
       "    <tr>\n",
       "      <th>33322</th>\n",
       "      <td>2019-04-01</td>\n",
       "      <td>2019-20</td>\n",
       "      <td>APR</td>\n",
       "      <td>2WW Breast</td>\n",
       "      <td>R1F</td>\n",
       "      <td>Unknown</td>\n",
       "      <td>Exhibited (non-cancer) breast symptoms - cance...</td>\n",
       "      <td>1</td>\n",
       "      <td>1</td>\n",
       "      <td>0</td>\n",
       "      <td>0.000000</td>\n",
       "    </tr>\n",
       "    <tr>\n",
       "      <th>33323</th>\n",
       "      <td>2019-04-01</td>\n",
       "      <td>2019-20</td>\n",
       "      <td>APR</td>\n",
       "      <td>2WW Breast</td>\n",
       "      <td>R1H</td>\n",
       "      <td>Unknown</td>\n",
       "      <td>Exhibited (non-cancer) breast symptoms - cance...</td>\n",
       "      <td>244</td>\n",
       "      <td>244</td>\n",
       "      <td>0</td>\n",
       "      <td>0.000000</td>\n",
       "    </tr>\n",
       "    <tr>\n",
       "      <th>33324</th>\n",
       "      <td>2019-04-01</td>\n",
       "      <td>2019-20</td>\n",
       "      <td>APR</td>\n",
       "      <td>2WW Breast</td>\n",
       "      <td>R1K</td>\n",
       "      <td>Unknown</td>\n",
       "      <td>Exhibited (non-cancer) breast symptoms - cance...</td>\n",
       "      <td>259</td>\n",
       "      <td>199</td>\n",
       "      <td>60</td>\n",
       "      <td>23.166023</td>\n",
       "    </tr>\n",
       "    <tr>\n",
       "      <th>33325</th>\n",
       "      <td>2019-04-01</td>\n",
       "      <td>2019-20</td>\n",
       "      <td>APR</td>\n",
       "      <td>2WW Breast</td>\n",
       "      <td>RA2</td>\n",
       "      <td>Unknown</td>\n",
       "      <td>Exhibited (non-cancer) breast symptoms - cance...</td>\n",
       "      <td>1</td>\n",
       "      <td>1</td>\n",
       "      <td>0</td>\n",
       "      <td>0.000000</td>\n",
       "    </tr>\n",
       "    <tr>\n",
       "      <th>33326</th>\n",
       "      <td>2019-04-01</td>\n",
       "      <td>2019-20</td>\n",
       "      <td>APR</td>\n",
       "      <td>2WW Breast</td>\n",
       "      <td>RAL</td>\n",
       "      <td>Unknown</td>\n",
       "      <td>Exhibited (non-cancer) breast symptoms - cance...</td>\n",
       "      <td>179</td>\n",
       "      <td>156</td>\n",
       "      <td>23</td>\n",
       "      <td>12.849162</td>\n",
       "    </tr>\n",
       "  </tbody>\n",
       "</table>\n",
       "</div>"
      ],
      "text/plain": [
       "          PERIOD     YEAR MONTH    STANDARD ORG CODE CARE SETTING  \\\n",
       "33322 2019-04-01  2019-20   APR  2WW Breast      R1F      Unknown   \n",
       "33323 2019-04-01  2019-20   APR  2WW Breast      R1H      Unknown   \n",
       "33324 2019-04-01  2019-20   APR  2WW Breast      R1K      Unknown   \n",
       "33325 2019-04-01  2019-20   APR  2WW Breast      RA2      Unknown   \n",
       "33326 2019-04-01  2019-20   APR  2WW Breast      RAL      Unknown   \n",
       "\n",
       "                                             CANCER TYPE  TOTAL TREATED  \\\n",
       "33322  Exhibited (non-cancer) breast symptoms - cance...              1   \n",
       "33323  Exhibited (non-cancer) breast symptoms - cance...            244   \n",
       "33324  Exhibited (non-cancer) breast symptoms - cance...            259   \n",
       "33325  Exhibited (non-cancer) breast symptoms - cance...              1   \n",
       "33326  Exhibited (non-cancer) breast symptoms - cance...            179   \n",
       "\n",
       "       WITHIN STANDARD  BREACHES  BREACH PROP  \n",
       "33322                1         0     0.000000  \n",
       "33323              244         0     0.000000  \n",
       "33324              199        60    23.166023  \n",
       "33325                1         0     0.000000  \n",
       "33326              156        23    12.849162  "
      ]
     },
     "execution_count": 30,
     "metadata": {},
     "output_type": "execute_result"
    }
   ],
   "source": [
    "non_susp = data[data['CANCER TYPE'].str.contains('Exhibited')]\n",
    "non_susp.head()"
   ]
  },
  {
   "cell_type": "code",
   "execution_count": 31,
   "id": "bbc44b5c",
   "metadata": {},
   "outputs": [
    {
     "name": "stdout",
     "output_type": "stream",
     "text": [
      "TOTAL TREATED      176807\n",
      "WITHIN STANDARD    148038\n",
      "BREACHES            28769\n",
      "dtype: int64\n"
     ]
    }
   ],
   "source": [
    "non_susp2019 = non_susp[non_susp['YEAR'].str.contains('2019-20')]\n",
    "print(non_susp2019[['TOTAL TREATED', 'WITHIN STANDARD', 'BREACHES',]].sum())"
   ]
  },
  {
   "cell_type": "code",
   "execution_count": 32,
   "id": "0f7a0af9",
   "metadata": {},
   "outputs": [
    {
     "data": {
      "text/plain": [
       "16.27141459331361"
      ]
     },
     "execution_count": 32,
     "metadata": {},
     "output_type": "execute_result"
    }
   ],
   "source": [
    "non_total = non_susp2019['TOTAL TREATED'].sum()\n",
    "non_breach = non_susp2019['BREACHES'].sum()\n",
    "(non_breach / non_total) * 100"
   ]
  },
  {
   "cell_type": "code",
   "execution_count": 33,
   "id": "1032c993",
   "metadata": {},
   "outputs": [
    {
     "name": "stdout",
     "output_type": "stream",
     "text": [
      "TOTAL TREATED      128364\n",
      "WITHIN STANDARD     97559\n",
      "BREACHES            30805\n",
      "dtype: int64\n"
     ]
    }
   ],
   "source": [
    "non_susp2020 = non_susp[non_susp['YEAR'].str.contains('2020-21')]\n",
    "print(non_susp2020[['TOTAL TREATED','WITHIN STANDARD','BREACHES',]].sum())"
   ]
  },
  {
   "cell_type": "code",
   "execution_count": 34,
   "id": "a7330508",
   "metadata": {},
   "outputs": [
    {
     "data": {
      "text/plain": [
       "23.998161478296094"
      ]
     },
     "execution_count": 34,
     "metadata": {},
     "output_type": "execute_result"
    }
   ],
   "source": [
    "non_total = non_susp2020['TOTAL TREATED'].sum()\n",
    "non_breach = non_susp2020['BREACHES'].sum()\n",
    "(non_breach / non_total) * 100"
   ]
  },
  {
   "cell_type": "markdown",
   "id": "f9ce0359",
   "metadata": {},
   "source": [
    "Significantly higher amount of breaches compared with the all suspected cancer cases.\n",
    "16.3% in 2019-2020 and 24% in 2020-2021. The operational standard for these cases remains 93% so these fall short both years, at 83.7% and 76% respectively.\n",
    "Let's plot this out to see if it follows a similar trajectory as all cancers."
   ]
  },
  {
   "cell_type": "code",
   "execution_count": 35,
   "id": "8904e214",
   "metadata": {},
   "outputs": [
    {
     "name": "stdout",
     "output_type": "stream",
     "text": [
      "          PERIOD  TOTAL TREATED  WITHIN STANDARD  BREACHES\n",
      "33322 2019-04-01              1                1         0\n",
      "33323 2019-04-01            244              244         0\n",
      "33324 2019-04-01            259              199        60\n",
      "33325 2019-04-01              1                1         0\n",
      "33326 2019-04-01            179              156        23\n",
      "...          ...            ...              ...       ...\n",
      "67553 2021-03-01             34               34         0\n",
      "67554 2021-03-01            215              209         6\n",
      "67555 2021-03-01            197               26       171\n",
      "67556 2021-03-01            202              196         6\n",
      "67557 2021-03-01            183              176         7\n",
      "\n",
      "[4700 rows x 4 columns]\n"
     ]
    }
   ],
   "source": [
    "nons_time = non_susp.drop(['YEAR', 'MONTH', 'STANDARD', 'ORG CODE', 'CARE SETTING',\n",
    "       'CANCER TYPE', 'BREACH PROP'], axis = 1)\n",
    "print(nons_time)"
   ]
  },
  {
   "cell_type": "code",
   "execution_count": 36,
   "id": "64e4cf2c",
   "metadata": {},
   "outputs": [
    {
     "data": {
      "text/html": [
       "<div>\n",
       "<style scoped>\n",
       "    .dataframe tbody tr th:only-of-type {\n",
       "        vertical-align: middle;\n",
       "    }\n",
       "\n",
       "    .dataframe tbody tr th {\n",
       "        vertical-align: top;\n",
       "    }\n",
       "\n",
       "    .dataframe thead th {\n",
       "        text-align: right;\n",
       "    }\n",
       "</style>\n",
       "<table border=\"1\" class=\"dataframe\">\n",
       "  <thead>\n",
       "    <tr style=\"text-align: right;\">\n",
       "      <th></th>\n",
       "      <th>TOTAL TREATED</th>\n",
       "      <th>WITHIN STANDARD</th>\n",
       "      <th>BREACHES</th>\n",
       "    </tr>\n",
       "    <tr>\n",
       "      <th>PERIOD</th>\n",
       "      <th></th>\n",
       "      <th></th>\n",
       "      <th></th>\n",
       "    </tr>\n",
       "  </thead>\n",
       "  <tbody>\n",
       "    <tr>\n",
       "      <th>2019-04-01</th>\n",
       "      <td>16753</td>\n",
       "      <td>12554</td>\n",
       "      <td>4199</td>\n",
       "    </tr>\n",
       "    <tr>\n",
       "      <th>2019-05-01</th>\n",
       "      <td>15949</td>\n",
       "      <td>12584</td>\n",
       "      <td>3365</td>\n",
       "    </tr>\n",
       "    <tr>\n",
       "      <th>2019-06-01</th>\n",
       "      <td>14885</td>\n",
       "      <td>11606</td>\n",
       "      <td>3279</td>\n",
       "    </tr>\n",
       "    <tr>\n",
       "      <th>2019-07-01</th>\n",
       "      <td>15824</td>\n",
       "      <td>13055</td>\n",
       "      <td>2769</td>\n",
       "    </tr>\n",
       "    <tr>\n",
       "      <th>2019-08-01</th>\n",
       "      <td>13220</td>\n",
       "      <td>11372</td>\n",
       "      <td>1848</td>\n",
       "    </tr>\n",
       "  </tbody>\n",
       "</table>\n",
       "</div>"
      ],
      "text/plain": [
       "            TOTAL TREATED  WITHIN STANDARD  BREACHES\n",
       "PERIOD                                              \n",
       "2019-04-01          16753            12554      4199\n",
       "2019-05-01          15949            12584      3365\n",
       "2019-06-01          14885            11606      3279\n",
       "2019-07-01          15824            13055      2769\n",
       "2019-08-01          13220            11372      1848"
      ]
     },
     "execution_count": 36,
     "metadata": {},
     "output_type": "execute_result"
    }
   ],
   "source": [
    "nons_time1 = nons_time.groupby([nons_time['PERIOD']]).sum()\n",
    "nons_time1.head()"
   ]
  },
  {
   "cell_type": "code",
   "execution_count": 37,
   "id": "f21bed26",
   "metadata": {},
   "outputs": [
    {
     "data": {
      "text/plain": [
       "<AxesSubplot:xlabel='PERIOD', ylabel='TOTAL TREATED'>"
      ]
     },
     "execution_count": 37,
     "metadata": {},
     "output_type": "execute_result"
    },
    {
     "data": {
      "image/png": "[encoded data removed]",
      "text/plain": [
       "<Figure size 1008x432 with 1 Axes>"
      ]
     },
     "metadata": {
      "needs_background": "light"
     },
     "output_type": "display_data"
    }
   ],
   "source": [
    "plt.figure(figsize=(14,6))\n",
    "sns.lineplot(x='PERIOD', y='TOTAL TREATED', data=nons_time1)"
   ]
  },
  {
   "cell_type": "markdown",
   "id": "70d3e3d2",
   "metadata": {},
   "source": [
    "Seems ollows similar tragectory as all suspected cases, however a slower recovery since COVID-19 compared with all other cases."
   ]
  },
  {
   "cell_type": "code",
   "execution_count": 38,
   "id": "07665dd9",
   "metadata": {},
   "outputs": [
    {
     "data": {
      "text/plain": [
       "Text(0, 0.5, 'No. of cases')"
      ]
     },
     "execution_count": 38,
     "metadata": {},
     "output_type": "execute_result"
    },
    {
     "data": {
      "image/png": "[encoded data removed]",
      "text/plain": [
       "<Figure size 1296x432 with 1 Axes>"
      ]
     },
     "metadata": {
      "needs_background": "light"
     },
     "output_type": "display_data"
    }
   ],
   "source": [
    "plt.figure(figsize=(18,6))\n",
    "sns.lineplot(data=nons_time1)\n",
    "plt.title('Non-suspected breast cancer patients with symptoms')\n",
    "plt.xlabel('Time period')\n",
    "plt.ylabel('No. of cases')"
   ]
  },
  {
   "cell_type": "markdown",
   "id": "e5ebb4dc",
   "metadata": {},
   "source": [
    "Lines generally appear to be closer together compared to all cases, suggesting a higher propotion of breaches to total cases."
   ]
  },
  {
   "cell_type": "code",
   "execution_count": 39,
   "id": "351d290d",
   "metadata": {},
   "outputs": [
    {
     "name": "stdout",
     "output_type": "stream",
     "text": [
      "            TOTAL TREATED  WITHIN STANDARD  BREACHES  BREACH PROP\n",
      "PERIOD                                                           \n",
      "2019-04-01          16753            12554      4199    25.064168\n",
      "2019-05-01          15949            12584      3365    21.098501\n",
      "2019-06-01          14885            11606      3279    22.028888\n",
      "2019-07-01          15824            13055      2769    17.498736\n",
      "2019-08-01          13220            11372      1848    13.978820\n",
      "2019-09-01          13475            11870      1605    11.910946\n",
      "2019-10-01          16232            14593      1639    10.097339\n",
      "2019-11-01          15362            13420      1942    12.641583\n",
      "2019-12-01          14732            12425      2307    15.659788\n",
      "2020-01-01          14299            11960      2339    16.357787\n",
      "2020-02-01          13627            11889      1738    12.754091\n",
      "2020-03-01          12449            10710      1739    13.968993\n",
      "2020-04-01           3866             3153       713    18.442835\n",
      "2020-05-01           5415             5078       337     6.223453\n",
      "2020-06-01           8466             7673       793     9.366879\n",
      "2020-07-01          10437             9022      1415    13.557536\n",
      "2020-08-01           9486             7790      1696    17.878980\n",
      "2020-09-01          11122             8606      2516    22.621831\n",
      "2020-10-01          12100             9299      2801    23.148760\n",
      "2020-11-01          13727             9294      4433    32.294019\n",
      "2020-12-01          13420             9056      4364    32.518629\n",
      "2021-01-01          12425             7784      4641    37.352113\n",
      "2021-02-01          12209             8733      3476    28.470800\n",
      "2021-03-01          15691            12071      3620    23.070550\n"
     ]
    }
   ],
   "source": [
    "nons_time1['BREACH PROP'] = (nons_time1['BREACHES'] / nons_time1['TOTAL TREATED']) * 100\n",
    "print(nons_time1)"
   ]
  },
  {
   "cell_type": "code",
   "execution_count": 40,
   "id": "6cd78506",
   "metadata": {},
   "outputs": [
    {
     "data": {
      "text/plain": [
       "TOTAL TREATED      12425.000000\n",
       "WITHIN STANDARD     7784.000000\n",
       "BREACHES            4641.000000\n",
       "BREACH PROP           37.352113\n",
       "Name: 2021-01-01 00:00:00, dtype: float64"
      ]
     },
     "execution_count": 40,
     "metadata": {},
     "output_type": "execute_result"
    }
   ],
   "source": [
    "nons_time1.loc[nons_time1['BREACH PROP'].idxmax()]"
   ]
  },
  {
   "cell_type": "code",
   "execution_count": 41,
   "id": "a52a3667",
   "metadata": {},
   "outputs": [
    {
     "data": {
      "text/plain": [
       "TOTAL TREATED      5415.000000\n",
       "WITHIN STANDARD    5078.000000\n",
       "BREACHES            337.000000\n",
       "BREACH PROP           6.223453\n",
       "Name: 2020-05-01 00:00:00, dtype: float64"
      ]
     },
     "execution_count": 41,
     "metadata": {},
     "output_type": "execute_result"
    }
   ],
   "source": [
    "nons_time1.loc[nons_time1['BREACH PROP'].idxmin()]"
   ]
  },
  {
   "cell_type": "code",
   "execution_count": 42,
   "id": "8f81054f",
   "metadata": {},
   "outputs": [
    {
     "data": {
      "text/plain": [
       "<matplotlib.legend.Legend at 0x25a26c5fbe0>"
      ]
     },
     "execution_count": 42,
     "metadata": {},
     "output_type": "execute_result"
    },
    {
     "data": {
      "image/png": "[encoded data removed]",
      "text/plain": [
       "<Figure size 1008x432 with 1 Axes>"
      ]
     },
     "metadata": {
      "needs_background": "light"
     },
     "output_type": "display_data"
    }
   ],
   "source": [
    "plt.figure(figsize=(14,6))\n",
    "sns.lineplot(x='PERIOD', y='BREACH PROP', data=nons_time1, label='Non-suspected breast')\n",
    "sns.lineplot(x='PERIOD', y='BREACH PROP', data=time_line1, label='Suspected all cancer')\n",
    "plt.title('Non-suspected breast cancer patients with symptoms vs. all suspected cancer cases')\n",
    "plt.xlabel('Time period')\n",
    "plt.ylabel('Percentage of breaches to total cases')\n",
    "plt.legend()"
   ]
  },
  {
   "cell_type": "markdown",
   "id": "fd6ecb4a",
   "metadata": {},
   "source": [
    "When comparing suspected (all cancer) and non-suspected breast cancer cases, both follow a similar trajectory, with breaches actually decreasing during the few months after the first lockdown, then increasing further into 2020 and 2021.\n",
    "However, non-suspected breast cancer case breaches are at far greater scale and with an increase in the percentage of breaches shown after COVID-19. Maximum was 37.4% of cases that did not meet the operational standard benchmark of 93% in Jan 2021, in other words, only 62.6% of symptomatic breast cancer cases, that were intitally not suspected as cancer, met the 2 week operational standard.\n",
    "There is a high level of variability, however operational standard was only met for one month (May 2020 93.8% of patients within 2WW). This includes time points before and after COVID-19."
   ]
  },
  {
   "cell_type": "markdown",
   "id": "f239601c",
   "metadata": {},
   "source": [
    "Now lets compare by disease type for suspected cases"
   ]
  },
  {
   "cell_type": "code",
   "execution_count": 43,
   "id": "be43b08d",
   "metadata": {},
   "outputs": [
    {
     "data": {
      "text/html": [
       "<div>\n",
       "<style scoped>\n",
       "    .dataframe tbody tr th:only-of-type {\n",
       "        vertical-align: middle;\n",
       "    }\n",
       "\n",
       "    .dataframe tbody tr th {\n",
       "        vertical-align: top;\n",
       "    }\n",
       "\n",
       "    .dataframe thead th {\n",
       "        text-align: right;\n",
       "    }\n",
       "</style>\n",
       "<table border=\"1\" class=\"dataframe\">\n",
       "  <thead>\n",
       "    <tr style=\"text-align: right;\">\n",
       "      <th></th>\n",
       "      <th>CANCER TYPE</th>\n",
       "      <th>TOTAL TREATED</th>\n",
       "    </tr>\n",
       "  </thead>\n",
       "  <tbody>\n",
       "    <tr>\n",
       "      <th>0</th>\n",
       "      <td>Suspected skin cancer</td>\n",
       "      <td>932440</td>\n",
       "    </tr>\n",
       "    <tr>\n",
       "      <th>1</th>\n",
       "      <td>Suspected breast cancer</td>\n",
       "      <td>860639</td>\n",
       "    </tr>\n",
       "    <tr>\n",
       "      <th>2</th>\n",
       "      <td>Suspected lower gastrointestinal cancer</td>\n",
       "      <td>820697</td>\n",
       "    </tr>\n",
       "    <tr>\n",
       "      <th>3</th>\n",
       "      <td>Suspected head &amp; neck cancer</td>\n",
       "      <td>434131</td>\n",
       "    </tr>\n",
       "    <tr>\n",
       "      <th>4</th>\n",
       "      <td>Suspected gynaecological cancer</td>\n",
       "      <td>413370</td>\n",
       "    </tr>\n",
       "    <tr>\n",
       "      <th>5</th>\n",
       "      <td>Suspected urological malignancies (excluding t...</td>\n",
       "      <td>393579</td>\n",
       "    </tr>\n",
       "    <tr>\n",
       "      <th>6</th>\n",
       "      <td>Suspected upper gastrointestinal cancer</td>\n",
       "      <td>374395</td>\n",
       "    </tr>\n",
       "    <tr>\n",
       "      <th>7</th>\n",
       "      <td>Suspected lung cancer</td>\n",
       "      <td>108312</td>\n",
       "    </tr>\n",
       "    <tr>\n",
       "      <th>8</th>\n",
       "      <td>Suspected haematological malignancies (excludi...</td>\n",
       "      <td>41448</td>\n",
       "    </tr>\n",
       "    <tr>\n",
       "      <th>9</th>\n",
       "      <td>Suspected sarcoma</td>\n",
       "      <td>22898</td>\n",
       "    </tr>\n",
       "    <tr>\n",
       "      <th>10</th>\n",
       "      <td>Suspected testicular cancer</td>\n",
       "      <td>21880</td>\n",
       "    </tr>\n",
       "    <tr>\n",
       "      <th>11</th>\n",
       "      <td>Suspected brain/central nervous system tumours</td>\n",
       "      <td>19067</td>\n",
       "    </tr>\n",
       "    <tr>\n",
       "      <th>12</th>\n",
       "      <td>Suspected children's cancer</td>\n",
       "      <td>18270</td>\n",
       "    </tr>\n",
       "    <tr>\n",
       "      <th>13</th>\n",
       "      <td>Suspected other cancer</td>\n",
       "      <td>5801</td>\n",
       "    </tr>\n",
       "    <tr>\n",
       "      <th>14</th>\n",
       "      <td>Suspected acute leukaemia</td>\n",
       "      <td>561</td>\n",
       "    </tr>\n",
       "  </tbody>\n",
       "</table>\n",
       "</div>"
      ],
      "text/plain": [
       "                                          CANCER TYPE  TOTAL TREATED\n",
       "0                               Suspected skin cancer         932440\n",
       "1                             Suspected breast cancer         860639\n",
       "2             Suspected lower gastrointestinal cancer         820697\n",
       "3                        Suspected head & neck cancer         434131\n",
       "4                     Suspected gynaecological cancer         413370\n",
       "5   Suspected urological malignancies (excluding t...         393579\n",
       "6             Suspected upper gastrointestinal cancer         374395\n",
       "7                               Suspected lung cancer         108312\n",
       "8   Suspected haematological malignancies (excludi...          41448\n",
       "9                                   Suspected sarcoma          22898\n",
       "10                        Suspected testicular cancer          21880\n",
       "11     Suspected brain/central nervous system tumours          19067\n",
       "12                        Suspected children's cancer          18270\n",
       "13                             Suspected other cancer           5801\n",
       "14                          Suspected acute leukaemia            561"
      ]
     },
     "execution_count": 43,
     "metadata": {},
     "output_type": "execute_result"
    }
   ],
   "source": [
    "incidence = suspect.groupby('CANCER TYPE')['TOTAL TREATED'].sum().sort_values(ascending=False).reset_index()\n",
    "incidence.head(15)"
   ]
  },
  {
   "cell_type": "code",
   "execution_count": 44,
   "id": "4b527fd2",
   "metadata": {},
   "outputs": [
    {
     "data": {
      "image/png": "[encoded data removed]",
      "text/plain": [
       "<Figure size 1008x576 with 1 Axes>"
      ]
     },
     "metadata": {},
     "output_type": "display_data"
    }
   ],
   "source": [
    "sns.set(style='whitegrid')\n",
    "plt.subplots(figsize=(14,8))\n",
    "\n",
    "\n",
    "inc = sns.barplot(x='TOTAL TREATED',y='CANCER TYPE', data=incidence, palette='Greens_d')\n",
    "plt.xlabel('Total cases')\n",
    "plt.ylabel('')\n",
    "inc.bar_label(inc.containers[0])\n",
    "\n",
    "sns.despine(left=True, bottom=True)"
   ]
  },
  {
   "cell_type": "markdown",
   "id": "c41d7414",
   "metadata": {},
   "source": [
    "Rates of suspected cancers cases generally follow the national incidence rates e.g. breast, bowel, skin. Lung and urological (which included prostate) cancer looks to be suprisingly under-represented in this data when comparing to diagnosis data on the Office of National Statistics (https://www.ons.gov.uk/peoplepopulationandcommunity/healthandsocialcare/conditionsanddiseases/bulletins/cancerregistrationstatisticsengland/2017). Data is from 2017 however we can assume that genuine rates of new cases will not vary significantly year on year through the overservation of trends over the last few decades.\n",
    "The discrepancy can either be explained by a genuine decrease in those having new cancer, however more likely to be explained by either a decrease in the amount of people going to their doctor with worries about symptoms due to COVID related difficulties e.g. fear of contracting it in public spaces (Dr's surgery), or perhaps due to the limited availability of GP appoitments have been since COVID (particularly face-to-face). This could also be reflected by a general slowing down of services, meaning more time to even have intially seen by the GP, to then having to wait longer for diagnosis and subsequent treatment (as we can see by the increase in breaches of target over this time period). This is worrying for the rates of missed cases or mis-diagnosis for people who do infact have cancer and may be reflected in the future by a significant rise in recorded suspected cases that could have repurcussions for limited capacity of health services."
   ]
  },
  {
   "cell_type": "code",
   "execution_count": 45,
   "id": "245b438f",
   "metadata": {},
   "outputs": [],
   "source": [
    "target = suspect.groupby('CANCER TYPE').sum().sort_values(['WITHIN STANDARD'],ascending=False).reset_index()"
   ]
  },
  {
   "cell_type": "code",
   "execution_count": 46,
   "id": "0f34dcd7",
   "metadata": {},
   "outputs": [
    {
     "data": {
      "image/png": "[encoded data removed]",
      "text/plain": [
       "<Figure size 1008x576 with 1 Axes>"
      ]
     },
     "metadata": {},
     "output_type": "display_data"
    }
   ],
   "source": [
    "sns.set(style='whitegrid')\n",
    "a,b = plt.subplots(figsize=(14,8))\n",
    "\n",
    "sns.set_color_codes('muted')\n",
    "sns.barplot(x='WITHIN STANDARD',y='CANCER TYPE', data=target, label='Within standard',color='g')\n",
    "sns.set_color_codes('dark')\n",
    "sns.barplot(x='BREACHES', y='CANCER TYPE', data=target, label='Breaches',color='g')\n",
    "\n",
    "plt.xlabel('Operational standard of cases')\n",
    "plt.ylabel('')\n",
    "b.legend(ncol=2, loc=\"lower right\", frameon=True)\n",
    "\n",
    "sns.despine(left=True, bottom=True)"
   ]
  },
  {
   "cell_type": "markdown",
   "id": "966d0cad",
   "metadata": {},
   "source": [
    "Looks like for certain cancers, there are a higher number of breaches in comparision to those within standard, particularly breast, upper and lower gastro. For the less common cancers it is hard to see from this graph any relevant data."
   ]
  },
  {
   "cell_type": "code",
   "execution_count": 47,
   "id": "f9da7222",
   "metadata": {},
   "outputs": [
    {
     "data": {
      "text/html": [
       "<div>\n",
       "<style scoped>\n",
       "    .dataframe tbody tr th:only-of-type {\n",
       "        vertical-align: middle;\n",
       "    }\n",
       "\n",
       "    .dataframe tbody tr th {\n",
       "        vertical-align: top;\n",
       "    }\n",
       "\n",
       "    .dataframe thead th {\n",
       "        text-align: right;\n",
       "    }\n",
       "</style>\n",
       "<table border=\"1\" class=\"dataframe\">\n",
       "  <thead>\n",
       "    <tr style=\"text-align: right;\">\n",
       "      <th></th>\n",
       "      <th>CANCER TYPE</th>\n",
       "      <th>TOTAL TREATED</th>\n",
       "      <th>WITHIN STANDARD</th>\n",
       "      <th>BREACHES</th>\n",
       "      <th>BREACH PROP</th>\n",
       "    </tr>\n",
       "  </thead>\n",
       "  <tbody>\n",
       "    <tr>\n",
       "      <th>0</th>\n",
       "      <td>Suspected skin cancer</td>\n",
       "      <td>932440</td>\n",
       "      <td>842537</td>\n",
       "      <td>89903</td>\n",
       "      <td>50038.094640</td>\n",
       "    </tr>\n",
       "    <tr>\n",
       "      <th>1</th>\n",
       "      <td>Suspected breast cancer</td>\n",
       "      <td>860639</td>\n",
       "      <td>729507</td>\n",
       "      <td>131132</td>\n",
       "      <td>74753.664563</td>\n",
       "    </tr>\n",
       "    <tr>\n",
       "      <th>2</th>\n",
       "      <td>Suspected lower gastrointestinal cancer</td>\n",
       "      <td>820697</td>\n",
       "      <td>720766</td>\n",
       "      <td>99931</td>\n",
       "      <td>63646.764918</td>\n",
       "    </tr>\n",
       "    <tr>\n",
       "      <th>3</th>\n",
       "      <td>Suspected head &amp; neck cancer</td>\n",
       "      <td>434131</td>\n",
       "      <td>410920</td>\n",
       "      <td>23211</td>\n",
       "      <td>29067.366922</td>\n",
       "    </tr>\n",
       "    <tr>\n",
       "      <th>4</th>\n",
       "      <td>Suspected gynaecological cancer</td>\n",
       "      <td>413370</td>\n",
       "      <td>384813</td>\n",
       "      <td>28557</td>\n",
       "      <td>30649.850321</td>\n",
       "    </tr>\n",
       "    <tr>\n",
       "      <th>5</th>\n",
       "      <td>Suspected urological malignancies (excluding t...</td>\n",
       "      <td>393579</td>\n",
       "      <td>369117</td>\n",
       "      <td>24462</td>\n",
       "      <td>28912.244595</td>\n",
       "    </tr>\n",
       "    <tr>\n",
       "      <th>6</th>\n",
       "      <td>Suspected upper gastrointestinal cancer</td>\n",
       "      <td>374395</td>\n",
       "      <td>330329</td>\n",
       "      <td>44066</td>\n",
       "      <td>49298.121466</td>\n",
       "    </tr>\n",
       "    <tr>\n",
       "      <th>7</th>\n",
       "      <td>Suspected lung cancer</td>\n",
       "      <td>108312</td>\n",
       "      <td>102888</td>\n",
       "      <td>5424</td>\n",
       "      <td>20984.413346</td>\n",
       "    </tr>\n",
       "    <tr>\n",
       "      <th>8</th>\n",
       "      <td>Suspected haematological malignancies (excludi...</td>\n",
       "      <td>41448</td>\n",
       "      <td>39579</td>\n",
       "      <td>1869</td>\n",
       "      <td>16585.857430</td>\n",
       "    </tr>\n",
       "    <tr>\n",
       "      <th>9</th>\n",
       "      <td>Suspected testicular cancer</td>\n",
       "      <td>21880</td>\n",
       "      <td>21113</td>\n",
       "      <td>767</td>\n",
       "      <td>9005.450218</td>\n",
       "    </tr>\n",
       "    <tr>\n",
       "      <th>10</th>\n",
       "      <td>Suspected sarcoma</td>\n",
       "      <td>22898</td>\n",
       "      <td>20708</td>\n",
       "      <td>2190</td>\n",
       "      <td>17511.884515</td>\n",
       "    </tr>\n",
       "    <tr>\n",
       "      <th>11</th>\n",
       "      <td>Suspected brain/central nervous system tumours</td>\n",
       "      <td>19067</td>\n",
       "      <td>18181</td>\n",
       "      <td>886</td>\n",
       "      <td>10609.184565</td>\n",
       "    </tr>\n",
       "    <tr>\n",
       "      <th>12</th>\n",
       "      <td>Suspected children's cancer</td>\n",
       "      <td>18270</td>\n",
       "      <td>16935</td>\n",
       "      <td>1335</td>\n",
       "      <td>23242.343000</td>\n",
       "    </tr>\n",
       "    <tr>\n",
       "      <th>13</th>\n",
       "      <td>Suspected other cancer</td>\n",
       "      <td>5801</td>\n",
       "      <td>5326</td>\n",
       "      <td>475</td>\n",
       "      <td>9207.059372</td>\n",
       "    </tr>\n",
       "    <tr>\n",
       "      <th>14</th>\n",
       "      <td>Suspected acute leukaemia</td>\n",
       "      <td>561</td>\n",
       "      <td>535</td>\n",
       "      <td>26</td>\n",
       "      <td>923.391690</td>\n",
       "    </tr>\n",
       "  </tbody>\n",
       "</table>\n",
       "</div>"
      ],
      "text/plain": [
       "                                          CANCER TYPE  TOTAL TREATED  \\\n",
       "0                               Suspected skin cancer         932440   \n",
       "1                             Suspected breast cancer         860639   \n",
       "2             Suspected lower gastrointestinal cancer         820697   \n",
       "3                        Suspected head & neck cancer         434131   \n",
       "4                     Suspected gynaecological cancer         413370   \n",
       "5   Suspected urological malignancies (excluding t...         393579   \n",
       "6             Suspected upper gastrointestinal cancer         374395   \n",
       "7                               Suspected lung cancer         108312   \n",
       "8   Suspected haematological malignancies (excludi...          41448   \n",
       "9                         Suspected testicular cancer          21880   \n",
       "10                                  Suspected sarcoma          22898   \n",
       "11     Suspected brain/central nervous system tumours          19067   \n",
       "12                        Suspected children's cancer          18270   \n",
       "13                             Suspected other cancer           5801   \n",
       "14                          Suspected acute leukaemia            561   \n",
       "\n",
       "    WITHIN STANDARD  BREACHES   BREACH PROP  \n",
       "0            842537     89903  50038.094640  \n",
       "1            729507    131132  74753.664563  \n",
       "2            720766     99931  63646.764918  \n",
       "3            410920     23211  29067.366922  \n",
       "4            384813     28557  30649.850321  \n",
       "5            369117     24462  28912.244595  \n",
       "6            330329     44066  49298.121466  \n",
       "7            102888      5424  20984.413346  \n",
       "8             39579      1869  16585.857430  \n",
       "9             21113       767   9005.450218  \n",
       "10            20708      2190  17511.884515  \n",
       "11            18181       886  10609.184565  \n",
       "12            16935      1335  23242.343000  \n",
       "13             5326       475   9207.059372  \n",
       "14              535        26    923.391690  "
      ]
     },
     "execution_count": 47,
     "metadata": {},
     "output_type": "execute_result"
    }
   ],
   "source": [
    "target.head(15)"
   ]
  },
  {
   "cell_type": "markdown",
   "id": "a13cfb89",
   "metadata": {},
   "source": [
    "We can view the data for rarer cancers now. Although this is hard to interpret just from the raw data. Better to look at percetage of breaches to total suspected cases to get a clearer representation."
   ]
  },
  {
   "cell_type": "code",
   "execution_count": 48,
   "id": "2c18e4eb",
   "metadata": {},
   "outputs": [],
   "source": [
    "area = target.drop(['BREACH PROP'], axis = 1)\n",
    "area['BREACH PROP'] = (area['BREACHES'] / area['TOTAL TREATED']) * 100"
   ]
  },
  {
   "cell_type": "code",
   "execution_count": 49,
   "id": "56f0ec33",
   "metadata": {},
   "outputs": [
    {
     "data": {
      "text/html": [
       "<div>\n",
       "<style scoped>\n",
       "    .dataframe tbody tr th:only-of-type {\n",
       "        vertical-align: middle;\n",
       "    }\n",
       "\n",
       "    .dataframe tbody tr th {\n",
       "        vertical-align: top;\n",
       "    }\n",
       "\n",
       "    .dataframe thead th {\n",
       "        text-align: right;\n",
       "    }\n",
       "</style>\n",
       "<table border=\"1\" class=\"dataframe\">\n",
       "  <thead>\n",
       "    <tr style=\"text-align: right;\">\n",
       "      <th></th>\n",
       "      <th>CANCER TYPE</th>\n",
       "      <th>TOTAL TREATED</th>\n",
       "      <th>WITHIN STANDARD</th>\n",
       "      <th>BREACHES</th>\n",
       "      <th>BREACH PROP</th>\n",
       "    </tr>\n",
       "  </thead>\n",
       "  <tbody>\n",
       "    <tr>\n",
       "      <th>1</th>\n",
       "      <td>Suspected breast cancer</td>\n",
       "      <td>860639</td>\n",
       "      <td>729507</td>\n",
       "      <td>131132</td>\n",
       "      <td>15.236586</td>\n",
       "    </tr>\n",
       "    <tr>\n",
       "      <th>2</th>\n",
       "      <td>Suspected lower gastrointestinal cancer</td>\n",
       "      <td>820697</td>\n",
       "      <td>720766</td>\n",
       "      <td>99931</td>\n",
       "      <td>12.176357</td>\n",
       "    </tr>\n",
       "    <tr>\n",
       "      <th>6</th>\n",
       "      <td>Suspected upper gastrointestinal cancer</td>\n",
       "      <td>374395</td>\n",
       "      <td>330329</td>\n",
       "      <td>44066</td>\n",
       "      <td>11.769922</td>\n",
       "    </tr>\n",
       "    <tr>\n",
       "      <th>0</th>\n",
       "      <td>Suspected skin cancer</td>\n",
       "      <td>932440</td>\n",
       "      <td>842537</td>\n",
       "      <td>89903</td>\n",
       "      <td>9.641693</td>\n",
       "    </tr>\n",
       "    <tr>\n",
       "      <th>10</th>\n",
       "      <td>Suspected sarcoma</td>\n",
       "      <td>22898</td>\n",
       "      <td>20708</td>\n",
       "      <td>2190</td>\n",
       "      <td>9.564154</td>\n",
       "    </tr>\n",
       "    <tr>\n",
       "      <th>13</th>\n",
       "      <td>Suspected other cancer</td>\n",
       "      <td>5801</td>\n",
       "      <td>5326</td>\n",
       "      <td>475</td>\n",
       "      <td>8.188243</td>\n",
       "    </tr>\n",
       "    <tr>\n",
       "      <th>12</th>\n",
       "      <td>Suspected children's cancer</td>\n",
       "      <td>18270</td>\n",
       "      <td>16935</td>\n",
       "      <td>1335</td>\n",
       "      <td>7.307061</td>\n",
       "    </tr>\n",
       "    <tr>\n",
       "      <th>4</th>\n",
       "      <td>Suspected gynaecological cancer</td>\n",
       "      <td>413370</td>\n",
       "      <td>384813</td>\n",
       "      <td>28557</td>\n",
       "      <td>6.908339</td>\n",
       "    </tr>\n",
       "    <tr>\n",
       "      <th>5</th>\n",
       "      <td>Suspected urological malignancies (excluding t...</td>\n",
       "      <td>393579</td>\n",
       "      <td>369117</td>\n",
       "      <td>24462</td>\n",
       "      <td>6.215271</td>\n",
       "    </tr>\n",
       "    <tr>\n",
       "      <th>3</th>\n",
       "      <td>Suspected head &amp; neck cancer</td>\n",
       "      <td>434131</td>\n",
       "      <td>410920</td>\n",
       "      <td>23211</td>\n",
       "      <td>5.346543</td>\n",
       "    </tr>\n",
       "    <tr>\n",
       "      <th>7</th>\n",
       "      <td>Suspected lung cancer</td>\n",
       "      <td>108312</td>\n",
       "      <td>102888</td>\n",
       "      <td>5424</td>\n",
       "      <td>5.007755</td>\n",
       "    </tr>\n",
       "    <tr>\n",
       "      <th>11</th>\n",
       "      <td>Suspected brain/central nervous system tumours</td>\n",
       "      <td>19067</td>\n",
       "      <td>18181</td>\n",
       "      <td>886</td>\n",
       "      <td>4.646772</td>\n",
       "    </tr>\n",
       "    <tr>\n",
       "      <th>14</th>\n",
       "      <td>Suspected acute leukaemia</td>\n",
       "      <td>561</td>\n",
       "      <td>535</td>\n",
       "      <td>26</td>\n",
       "      <td>4.634581</td>\n",
       "    </tr>\n",
       "    <tr>\n",
       "      <th>8</th>\n",
       "      <td>Suspected haematological malignancies (excludi...</td>\n",
       "      <td>41448</td>\n",
       "      <td>39579</td>\n",
       "      <td>1869</td>\n",
       "      <td>4.509265</td>\n",
       "    </tr>\n",
       "    <tr>\n",
       "      <th>9</th>\n",
       "      <td>Suspected testicular cancer</td>\n",
       "      <td>21880</td>\n",
       "      <td>21113</td>\n",
       "      <td>767</td>\n",
       "      <td>3.505484</td>\n",
       "    </tr>\n",
       "  </tbody>\n",
       "</table>\n",
       "</div>"
      ],
      "text/plain": [
       "                                          CANCER TYPE  TOTAL TREATED  \\\n",
       "1                             Suspected breast cancer         860639   \n",
       "2             Suspected lower gastrointestinal cancer         820697   \n",
       "6             Suspected upper gastrointestinal cancer         374395   \n",
       "0                               Suspected skin cancer         932440   \n",
       "10                                  Suspected sarcoma          22898   \n",
       "13                             Suspected other cancer           5801   \n",
       "12                        Suspected children's cancer          18270   \n",
       "4                     Suspected gynaecological cancer         413370   \n",
       "5   Suspected urological malignancies (excluding t...         393579   \n",
       "3                        Suspected head & neck cancer         434131   \n",
       "7                               Suspected lung cancer         108312   \n",
       "11     Suspected brain/central nervous system tumours          19067   \n",
       "14                          Suspected acute leukaemia            561   \n",
       "8   Suspected haematological malignancies (excludi...          41448   \n",
       "9                         Suspected testicular cancer          21880   \n",
       "\n",
       "    WITHIN STANDARD  BREACHES  BREACH PROP  \n",
       "1            729507    131132    15.236586  \n",
       "2            720766     99931    12.176357  \n",
       "6            330329     44066    11.769922  \n",
       "0            842537     89903     9.641693  \n",
       "10            20708      2190     9.564154  \n",
       "13             5326       475     8.188243  \n",
       "12            16935      1335     7.307061  \n",
       "4            384813     28557     6.908339  \n",
       "5            369117     24462     6.215271  \n",
       "3            410920     23211     5.346543  \n",
       "7            102888      5424     5.007755  \n",
       "11            18181       886     4.646772  \n",
       "14              535        26     4.634581  \n",
       "8             39579      1869     4.509265  \n",
       "9             21113       767     3.505484  "
      ]
     },
     "execution_count": 49,
     "metadata": {},
     "output_type": "execute_result"
    }
   ],
   "source": [
    "type_per= area.sort_values(['BREACH PROP'],ascending=False)\n",
    "type_per.head(15)"
   ]
  },
  {
   "cell_type": "markdown",
   "id": "716d034f",
   "metadata": {},
   "source": [
    "Rank each type based on breach percentage and total treated to see if there is any correlation between how common the disease type is and how often target times are breached. Could be that the specialised services for more common cancers are the most over subscribed due to the sheer volume of patients needing a referral."
   ]
  },
  {
   "cell_type": "code",
   "execution_count": 50,
   "id": "caa3b888",
   "metadata": {
    "scrolled": true
   },
   "outputs": [
    {
     "data": {
      "text/html": [
       "<div>\n",
       "<style scoped>\n",
       "    .dataframe tbody tr th:only-of-type {\n",
       "        vertical-align: middle;\n",
       "    }\n",
       "\n",
       "    .dataframe tbody tr th {\n",
       "        vertical-align: top;\n",
       "    }\n",
       "\n",
       "    .dataframe thead th {\n",
       "        text-align: right;\n",
       "    }\n",
       "</style>\n",
       "<table border=\"1\" class=\"dataframe\">\n",
       "  <thead>\n",
       "    <tr style=\"text-align: right;\">\n",
       "      <th></th>\n",
       "      <th>CANCER TYPE</th>\n",
       "      <th>TOTAL TREATED</th>\n",
       "      <th>WITHIN STANDARD</th>\n",
       "      <th>BREACHES</th>\n",
       "      <th>BREACH PROP</th>\n",
       "      <th>total_ranked</th>\n",
       "      <th>breach_ranked</th>\n",
       "    </tr>\n",
       "  </thead>\n",
       "  <tbody>\n",
       "    <tr>\n",
       "      <th>1</th>\n",
       "      <td>Suspected breast cancer</td>\n",
       "      <td>860639</td>\n",
       "      <td>729507</td>\n",
       "      <td>131132</td>\n",
       "      <td>15.236586</td>\n",
       "      <td>2.0</td>\n",
       "      <td>1.0</td>\n",
       "    </tr>\n",
       "    <tr>\n",
       "      <th>2</th>\n",
       "      <td>Suspected lower gastrointestinal cancer</td>\n",
       "      <td>820697</td>\n",
       "      <td>720766</td>\n",
       "      <td>99931</td>\n",
       "      <td>12.176357</td>\n",
       "      <td>3.0</td>\n",
       "      <td>2.0</td>\n",
       "    </tr>\n",
       "    <tr>\n",
       "      <th>6</th>\n",
       "      <td>Suspected upper gastrointestinal cancer</td>\n",
       "      <td>374395</td>\n",
       "      <td>330329</td>\n",
       "      <td>44066</td>\n",
       "      <td>11.769922</td>\n",
       "      <td>7.0</td>\n",
       "      <td>3.0</td>\n",
       "    </tr>\n",
       "    <tr>\n",
       "      <th>0</th>\n",
       "      <td>Suspected skin cancer</td>\n",
       "      <td>932440</td>\n",
       "      <td>842537</td>\n",
       "      <td>89903</td>\n",
       "      <td>9.641693</td>\n",
       "      <td>1.0</td>\n",
       "      <td>4.0</td>\n",
       "    </tr>\n",
       "    <tr>\n",
       "      <th>10</th>\n",
       "      <td>Suspected sarcoma</td>\n",
       "      <td>22898</td>\n",
       "      <td>20708</td>\n",
       "      <td>2190</td>\n",
       "      <td>9.564154</td>\n",
       "      <td>10.0</td>\n",
       "      <td>5.0</td>\n",
       "    </tr>\n",
       "    <tr>\n",
       "      <th>13</th>\n",
       "      <td>Suspected other cancer</td>\n",
       "      <td>5801</td>\n",
       "      <td>5326</td>\n",
       "      <td>475</td>\n",
       "      <td>8.188243</td>\n",
       "      <td>14.0</td>\n",
       "      <td>6.0</td>\n",
       "    </tr>\n",
       "    <tr>\n",
       "      <th>12</th>\n",
       "      <td>Suspected children's cancer</td>\n",
       "      <td>18270</td>\n",
       "      <td>16935</td>\n",
       "      <td>1335</td>\n",
       "      <td>7.307061</td>\n",
       "      <td>13.0</td>\n",
       "      <td>7.0</td>\n",
       "    </tr>\n",
       "    <tr>\n",
       "      <th>4</th>\n",
       "      <td>Suspected gynaecological cancer</td>\n",
       "      <td>413370</td>\n",
       "      <td>384813</td>\n",
       "      <td>28557</td>\n",
       "      <td>6.908339</td>\n",
       "      <td>5.0</td>\n",
       "      <td>8.0</td>\n",
       "    </tr>\n",
       "    <tr>\n",
       "      <th>5</th>\n",
       "      <td>Suspected urological malignancies (excluding t...</td>\n",
       "      <td>393579</td>\n",
       "      <td>369117</td>\n",
       "      <td>24462</td>\n",
       "      <td>6.215271</td>\n",
       "      <td>6.0</td>\n",
       "      <td>9.0</td>\n",
       "    </tr>\n",
       "    <tr>\n",
       "      <th>3</th>\n",
       "      <td>Suspected head &amp; neck cancer</td>\n",
       "      <td>434131</td>\n",
       "      <td>410920</td>\n",
       "      <td>23211</td>\n",
       "      <td>5.346543</td>\n",
       "      <td>4.0</td>\n",
       "      <td>10.0</td>\n",
       "    </tr>\n",
       "    <tr>\n",
       "      <th>7</th>\n",
       "      <td>Suspected lung cancer</td>\n",
       "      <td>108312</td>\n",
       "      <td>102888</td>\n",
       "      <td>5424</td>\n",
       "      <td>5.007755</td>\n",
       "      <td>8.0</td>\n",
       "      <td>11.0</td>\n",
       "    </tr>\n",
       "    <tr>\n",
       "      <th>11</th>\n",
       "      <td>Suspected brain/central nervous system tumours</td>\n",
       "      <td>19067</td>\n",
       "      <td>18181</td>\n",
       "      <td>886</td>\n",
       "      <td>4.646772</td>\n",
       "      <td>12.0</td>\n",
       "      <td>12.0</td>\n",
       "    </tr>\n",
       "    <tr>\n",
       "      <th>14</th>\n",
       "      <td>Suspected acute leukaemia</td>\n",
       "      <td>561</td>\n",
       "      <td>535</td>\n",
       "      <td>26</td>\n",
       "      <td>4.634581</td>\n",
       "      <td>15.0</td>\n",
       "      <td>13.0</td>\n",
       "    </tr>\n",
       "    <tr>\n",
       "      <th>8</th>\n",
       "      <td>Suspected haematological malignancies (excludi...</td>\n",
       "      <td>41448</td>\n",
       "      <td>39579</td>\n",
       "      <td>1869</td>\n",
       "      <td>4.509265</td>\n",
       "      <td>9.0</td>\n",
       "      <td>14.0</td>\n",
       "    </tr>\n",
       "    <tr>\n",
       "      <th>9</th>\n",
       "      <td>Suspected testicular cancer</td>\n",
       "      <td>21880</td>\n",
       "      <td>21113</td>\n",
       "      <td>767</td>\n",
       "      <td>3.505484</td>\n",
       "      <td>11.0</td>\n",
       "      <td>15.0</td>\n",
       "    </tr>\n",
       "  </tbody>\n",
       "</table>\n",
       "</div>"
      ],
      "text/plain": [
       "                                          CANCER TYPE  TOTAL TREATED  \\\n",
       "1                             Suspected breast cancer         860639   \n",
       "2             Suspected lower gastrointestinal cancer         820697   \n",
       "6             Suspected upper gastrointestinal cancer         374395   \n",
       "0                               Suspected skin cancer         932440   \n",
       "10                                  Suspected sarcoma          22898   \n",
       "13                             Suspected other cancer           5801   \n",
       "12                        Suspected children's cancer          18270   \n",
       "4                     Suspected gynaecological cancer         413370   \n",
       "5   Suspected urological malignancies (excluding t...         393579   \n",
       "3                        Suspected head & neck cancer         434131   \n",
       "7                               Suspected lung cancer         108312   \n",
       "11     Suspected brain/central nervous system tumours          19067   \n",
       "14                          Suspected acute leukaemia            561   \n",
       "8   Suspected haematological malignancies (excludi...          41448   \n",
       "9                         Suspected testicular cancer          21880   \n",
       "\n",
       "    WITHIN STANDARD  BREACHES  BREACH PROP  total_ranked  breach_ranked  \n",
       "1            729507    131132    15.236586           2.0            1.0  \n",
       "2            720766     99931    12.176357           3.0            2.0  \n",
       "6            330329     44066    11.769922           7.0            3.0  \n",
       "0            842537     89903     9.641693           1.0            4.0  \n",
       "10            20708      2190     9.564154          10.0            5.0  \n",
       "13             5326       475     8.188243          14.0            6.0  \n",
       "12            16935      1335     7.307061          13.0            7.0  \n",
       "4            384813     28557     6.908339           5.0            8.0  \n",
       "5            369117     24462     6.215271           6.0            9.0  \n",
       "3            410920     23211     5.346543           4.0           10.0  \n",
       "7            102888      5424     5.007755           8.0           11.0  \n",
       "11            18181       886     4.646772          12.0           12.0  \n",
       "14              535        26     4.634581          15.0           13.0  \n",
       "8             39579      1869     4.509265           9.0           14.0  \n",
       "9             21113       767     3.505484          11.0           15.0  "
      ]
     },
     "execution_count": 50,
     "metadata": {},
     "output_type": "execute_result"
    }
   ],
   "source": [
    "type_per['total_ranked'] = type_per['TOTAL TREATED'].rank(ascending=0)\n",
    "type_per['breach_ranked'] = type_per['BREACH PROP'].rank(ascending=0)\n",
    "type_per"
   ]
  },
  {
   "cell_type": "markdown",
   "id": "06a643ef",
   "metadata": {},
   "source": [
    "From the additional rank columns, it looks as though there are so winners and losers, e.g. head and neck, haematolgoical malignancies ranked higher for the total cases, but lower for breach percentage. Conversely, other cancer, children's cancer and sarcoma ranked low for total cases, yet high for breach. We have to bear in mind these ranks do not take into account the numerical value of the data and how big the gap is between each of the values for each cancer type."
   ]
  },
  {
   "cell_type": "code",
   "execution_count": 51,
   "id": "ad704d43",
   "metadata": {},
   "outputs": [
    {
     "data": {
      "image/png": "[encoded data removed]",
      "text/plain": [
       "<Figure size 432x288 with 1 Axes>"
      ]
     },
     "metadata": {},
     "output_type": "display_data"
    }
   ],
   "source": [
    "breach_type = sns.barplot(x='BREACH PROP',y='CANCER TYPE', data=type_per, palette='Blues_d')\n",
    "plt.xlabel('Referred cases breaching the 14 day standard (%)')\n",
    "plt.ylabel('')\n",
    "inc.bar_label(inc.containers[0])\n",
    "\n",
    "sns.despine(left=True, bottom=True)"
   ]
  },
  {
   "cell_type": "markdown",
   "id": "f6456915",
   "metadata": {},
   "source": [
    "Large variability in percentage of breaches for the different disease types. Why?\n",
    "1. This could be correlational with the total amount of suspected cases i.e. the more patients wanting to access the services, the higher the percentage of breaches reflecting a system that cannot meet with the demand, however we can see from the ranking, this doesn't appear to be the case e.g. children's cancer is rare compared to others, however ranked 6 places higher for breach percentage. However, for diseases like breast cancer, its common and also high breaches. On the other hand, acute leukemia very rare, and also very few breaches - suggests seeing a specialist for this type of cancer is a lot easier.\n",
    "2. There may be conicidentally fewer specialist teams for certain diseases. Perhaps more specialist centres for certain types of cancer. More available specialist clinicians.\n",
    "3. Different approaches for disease teams. May be intrumental for some disease teams to follow more closely to the 2WW due to the severity and how that disease develops. May be more of the 'norm' to not follow the 2WW standard for disease types that are potentially spotted in the earlier stages. Alternatively it may be that the chances of surviving from these cancers if caught in the early stages is higher, therefore less percieved urgency from patients and healthcare professionals.\n",
    "4. Large variability between different locations. Some Trusts may be consistently performing under what is expected, whilst others meeting target."
   ]
  },
  {
   "cell_type": "code",
   "execution_count": 52,
   "id": "662c64bb",
   "metadata": {},
   "outputs": [
    {
     "data": {
      "text/plain": [
       "Text(0.5, 1.0, 'Total treated cases vs. percentage of breaches per disease type')"
      ]
     },
     "execution_count": 52,
     "metadata": {},
     "output_type": "execute_result"
    },
    {
     "data": {
      "image/png": "[encoded data removed]",
      "text/plain": [
       "<Figure size 576x360 with 1 Axes>"
      ]
     },
     "metadata": {},
     "output_type": "display_data"
    }
   ],
   "source": [
    "plt.figure(figsize=(8,5))\n",
    "sns.regplot(x='TOTAL TREATED', y='BREACH PROP', data=type_per, color='darkred')\n",
    "\n",
    "plt.xlabel('Total treated cases')\n",
    "plt.ylabel('Percentage of breaches')\n",
    "plt.title('Total treated cases vs. percentage of breaches per disease type')"
   ]
  },
  {
   "cell_type": "code",
   "execution_count": 53,
   "id": "67195cec",
   "metadata": {},
   "outputs": [
    {
     "data": {
      "text/plain": [
       "Text(0.5, 1.0, 'Ranked: Total treated cases vs. percentage of breaches per disease type')"
      ]
     },
     "execution_count": 53,
     "metadata": {},
     "output_type": "execute_result"
    },
    {
     "data": {
      "image/png": "[encoded data removed]",
      "text/plain": [
       "<Figure size 576x360 with 1 Axes>"
      ]
     },
     "metadata": {},
     "output_type": "display_data"
    }
   ],
   "source": [
    "plt.figure(figsize=(8,5))\n",
    "sns.regplot(x='total_ranked', y='breach_ranked', data=type_per, color='darkred')\n",
    "\n",
    "plt.xlabel('Total treated cases ranked')\n",
    "plt.ylabel('Percentage of breaches ranked')\n",
    "plt.title('Ranked: Total treated cases vs. percentage of breaches per disease type')"
   ]
  },
  {
   "cell_type": "code",
   "execution_count": 54,
   "id": "8fde4c3e",
   "metadata": {},
   "outputs": [
    {
     "name": "stdout",
     "output_type": "stream",
     "text": [
      "corr: 0.390\n",
      "p=0.046\n"
     ]
    }
   ],
   "source": [
    "from scipy.stats import kendalltau\n",
    "corr, p = kendalltau(type_per['total_ranked'], type_per['breach_ranked'])\n",
    "print('corr: %.3f' % corr)\n",
    "alpha = 0.05\n",
    "print('p=%.3f' % p)"
   ]
  },
  {
   "cell_type": "markdown",
   "id": "9397ed8c",
   "metadata": {},
   "source": [
    "There is a moderate correlation between total cases and breach percentage which may part explain the variability in breach percentage.\n",
    "One suggestion to improve percentage of breaches is to invest more into those cancers that are more common e.g. breast cancer has the highest amount of breaches and also has the second highest total rate, so perhaps improving the current referral services will help this discrepancy. However being aware that not all disease types follow this trend. Further investigation into why certain cancers like children's cancer and sarcoma are rarer yet have a higher breach percentage is required as this may not be fully explained by the sheer volume of patients needing referral. You could look at how referrals for haematological maliganancies (for example, who have a very low breach rank compared to total rank) compare to one of these disease types to understand what exactly is going wrong."
   ]
  },
  {
   "cell_type": "markdown",
   "id": "a1bd8f49",
   "metadata": {},
   "source": [
    "Further anaylsis:\n",
    "1. Certainly the performance between each Trust needs investigating by looking at the ORG CODE column. More data would be useful to understand which organisation maps on to each code and plotting this onto a map would be useful to see if there are certain areas of the country that are performing worse than others and what can be done about this. Also looking at the interaction between cancer type and location.\n",
    "2. I have only touched upon the suspected cases. Further analysis would need to look at the 31 day and 62 day targets for the patient receiveing their first treatment, as well as the differentiation between the different treatment types, and also the different methods of referral, as this has the potential to show very different patterns."
   ]
  }
 ],
 "metadata": {
  "kernelspec": {
   "display_name": "Python 3 (ipykernel)",
   "language": "python",
   "name": "python3"
  },
  "language_info": {
   "codemirror_mode": {
    "name": "ipython",
    "version": 3
   },
   "file_extension": ".py",
   "mimetype": "text/x-python",
   "name": "python",
   "nbconvert_exporter": "python",
   "pygments_lexer": "ipython3",
   "version": "3.9.7"
  }
 },
 "nbformat": 4,
 "nbformat_minor": 5
}
